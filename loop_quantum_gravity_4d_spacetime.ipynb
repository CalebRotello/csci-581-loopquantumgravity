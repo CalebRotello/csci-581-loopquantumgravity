{
 "cells": [
  {
   "cell_type": "markdown",
   "metadata": {},
   "source": [
    "# 4-D quantum spacetime with spin network states\n",
    "$\n",
    "\\newcommand{\\ket}[1]{\\left|{#1}\\right\\rangle}\n",
    "\\newcommand{\\bra}[1]{\\left\\langle{#1}\\right|}\n",
    "\\newcommand{\\braket}[2]{\\left\\langle{#1}\\middle|{#2}\\right\\rangle}\n",
    "$"
   ]
  },
  {
   "cell_type": "markdown",
   "metadata": {
    "heading_collapsed": true
   },
   "source": [
    "## Problem description\n",
    "Each quantum tetrahedra can be written in the form \n",
    "$$\n",
    "\\ket{T} = \\cos(\\frac{\\theta}{2}) \\ket{0_L} + e^{i\\phi}\\sin(\\frac{\\theta}{2}) \\ket{1_L}\n",
    "$$\n",
    "$$ \n",
    "A = \\braket{W}{T}\n",
    "$$"
   ]
  },
  {
   "cell_type": "markdown",
   "metadata": {},
   "source": [
    "## Setup\n",
    "Load code from Cirq and our LQG directory"
   ]
  },
  {
   "cell_type": "code",
   "execution_count": 474,
   "metadata": {},
   "outputs": [],
   "source": [
    "import cirq\n",
    "import recirq\n",
    "import numpy as np\n",
    "import os\n",
    "import json\n",
    "import matplotlib.pyplot as plt\n",
    "from cirq.contrib.svg import SVGCircuit\n",
    "import fnmatch\n",
    "os.chdir('LQG')\n",
    "import tetrahedra_num as tn\n",
    "import tetrahedra_circuits as tc\n",
    "import postprocess as post\n",
    "import imp\n",
    "imp.reload(tn)\n",
    "imp.reload(tc)\n",
    "imp.reload(post)\n",
    "os.chdir('..')"
   ]
  },
  {
   "cell_type": "markdown",
   "metadata": {},
   "source": [
    "## Hardware layout\n",
    "This project was executed on the Google Sycamore processor (Weber specifically), whose 2D-qubit layout is pictured below."
   ]
  },
  {
   "cell_type": "code",
   "execution_count": 475,
   "metadata": {},
   "outputs": [
    {
     "name": "stdout",
     "output_type": "stream",
     "text": [
      "                                             (0, 5)───(0, 6)\n",
      "                                             │        │\n",
      "                                             │        │\n",
      "                                    (1, 4)───(1, 5)───(1, 6)───(1, 7)\n",
      "                                    │        │        │        │\n",
      "                                    │        │        │        │\n",
      "                           (2, 3)───(2, 4)───(2, 5)───(2, 6)───(2, 7)───(2, 8)\n",
      "                           │        │        │        │        │        │\n",
      "                           │        │        │        │        │        │\n",
      "                  (3, 2)───(3, 3)───(3, 4)───(3, 5)───(3, 6)───(3, 7)───(3, 8)───(3, 9)\n",
      "                  │        │        │        │        │        │        │        │\n",
      "                  │        │        │        │        │        │        │        │\n",
      "         (4, 1)───(4, 2)───(4, 3)───(4, 4)───(4, 5)───(4, 6)───(4, 7)───(4, 8)───(4, 9)\n",
      "         │        │        │        │        │        │        │        │\n",
      "         │        │        │        │        │        │        │        │\n",
      "(5, 0)───(5, 1)───(5, 2)───(5, 3)───(5, 4)───(5, 5)───(5, 6)───(5, 7)───(5, 8)\n",
      "         │        │        │        │        │        │        │\n",
      "         │        │        │        │        │        │        │\n",
      "         (6, 1)───(6, 2)───(6, 3)───(6, 4)───(6, 5)───(6, 6)───(6, 7)\n",
      "                  │        │        │        │        │\n",
      "                  │        │        │        │        │\n",
      "                  (7, 2)───(7, 3)───(7, 4)───(7, 5)───(7, 6)\n",
      "                           │        │        │\n",
      "                           │        │        │\n",
      "                           (8, 3)───(8, 4)───(8, 5)\n",
      "                                    │\n",
      "                                    │\n",
      "                                    (9, 4)\n"
     ]
    }
   ],
   "source": [
    "print(cirq.google.devices.Sycamore)"
   ]
  },
  {
   "cell_type": "markdown",
   "metadata": {},
   "source": [
    "# Experiment 1\n",
    "The first submission contained ~3.5 million circuit samples.\n",
    "\n",
    "First, we experimentally determined the fidelity of preparing the states $\\ket{0_L}$ and $\\ket{1_L}$.\n",
    "\n",
    "Second, we experimentally calculated the probability of ending in the $\\bf{\\ket{0}}$ state for a monopole network, dipole network, and pentagram network, which is also called a 4-simplice and is the boundary state for a 4-d spacetime.\n",
    "\n",
    "Lastly, we glued two 4-simplices together at two tetrahedra and calculated the probability of ending in $\\bf{\\ket{0}}$. This experiment is more speculative and has not been performed before."
   ]
  },
  {
   "cell_type": "markdown",
   "metadata": {},
   "source": [
    "## Load data"
   ]
  },
  {
   "cell_type": "code",
   "execution_count": 476,
   "metadata": {},
   "outputs": [],
   "source": [
    "results, sample_names = post.load(tc.project_name + '/lqg_ha_cr_measurements_submission_1.json')\n",
    "sim_results, sample_names = post.load(tc.project_name + '/lqg_ha_cr_test_measurements.json')\n",
    "err_results, _ = post.load(tc.project_name + '/lqg_ha_cr_error.json')"
   ]
  },
  {
   "cell_type": "markdown",
   "metadata": {},
   "source": [
    "## State preparation fidelity"
   ]
  },
  {
   "cell_type": "code",
   "execution_count": 477,
   "metadata": {},
   "outputs": [],
   "source": [
    "# load the samples as wavefunctions\n",
    "zero_prep_sample = post.SampleWavefunction(results['zero_fidelity'],4)\n",
    "one_prep_sample = post.SampleWavefunction(results['one_fidelity'],4)\n",
    "# get the error\n",
    "zero_prep_fidelity = zero_prep_sample.error(tn.L_zero)\n",
    "one_prep_fidelity = one_prep_sample.error(tn.L_one)\n",
    "\n",
    "# post-selection\n",
    "zero_prep_sample.post_select(post.keepfn_L_zero)\n",
    "one_prep_sample.post_select(post.keepfn_even)\n",
    "# get the error\n",
    "zero_prep_post = zero_prep_sample.error(tn.L_zero)\n",
    "one_prep_post = one_prep_sample.error(tn.L_one)"
   ]
  },
  {
   "cell_type": "markdown",
   "metadata": {
    "variables": {
     " str(round(one_prep_fidelity,4)) ": "0.8618",
     " str(round(zero_prep_fidelity,4))": "0.9938"
    }
   },
   "source": [
    "State preparation was tested with 1,000 samples, so larger distance from the wavefunction is expected.\n",
    "\n",
    "Without any sort of error management, we get the following fidelities:\n",
    "\n",
    "$\\ket{0_L}$: {{ str(round(zero_prep_fidelity,4))}}\n",
    "\n",
    "$\\ket{1_L}$: {{ str(round(one_prep_fidelity,4)) }}"
   ]
  },
  {
   "cell_type": "markdown",
   "metadata": {
    "variables": {
     "str(round(one_prep_post,4)) ": "0.9249",
     "str(round(zero_prep_post,4))": "0.9984"
    }
   },
   "source": [
    "With post-selection, we get the following fidelities:\n",
    "\n",
    "$\\ket{0_L}$: {{str(round(zero_prep_post,4))}}\n",
    "\n",
    "$\\ket{1_L}$: {{str(round(one_prep_post,4)) }}"
   ]
  },
  {
   "cell_type": "markdown",
   "metadata": {},
   "source": [
    "## Error tracking - where did my amplitudes go?"
   ]
  },
  {
   "cell_type": "code",
   "execution_count": 478,
   "metadata": {},
   "outputs": [
    {
     "name": "stdout",
     "output_type": "stream",
     "text": [
      "subsets of [0] to [None]\n",
      "0.00390625\n",
      "0.0606\n"
     ]
    }
   ],
   "source": [
    "exphist = results['zero_two_transition_04152637_0']\n",
    "simhist = sim_results['zero_two_transition_04152637_0']\n",
    "#errhist = err_results['zero_two_transition_0']\n",
    "\n",
    "simsamples = post.SampleWavefunction(simhist,8)\n",
    "st = simsamples.state_subset([0],[None],verbose=False)\n",
    "d = {}\n",
    "for key,value in st.items():\n",
    "    try:\n",
    "        d[key.count('1')] += value\n",
    "    except:\n",
    "        d[key.count('1')] = value\n",
    "print(2**-8)\n",
    "print(simsamples.amplitude)\n",
    "\n",
    "#expwvfn = post.SampleWavefunction(exphist,8)\n",
    "#for i in range(8):\n",
    "#    s = expwvfn.state_subset([i],[i+1],verbose=False)\n",
    "#    if len(s) == 1:\n",
    "#        print(s)\n",
    "#expwvfn.post_select(post.keepfn_even)\n",
    "#expwvfn.state_subset([2,6],[4,8])\n",
    "#simwvfn = post.SampleWavefunction(simhist,8)\n",
    "#simwvfn.state_subset([2,6],[4,8])\n",
    "#errwvfn = post.SampleWavefunction(errhist,8)\n",
    "#errwvfn.state_subset([2,6],[4,8])\n",
    "\n",
    "\n",
    "#print('<sim|exp>',simwvfn.error(expwvfn.wavefn))\n",
    "#print('<sim|err>',simwvfn.error(errwvfn.wavefn))\n",
    "#print('<exp|err>',expwvfn.error(errwvfn.wavefn))\n",
    "#print('sim',simwvfn.amplitude)\n",
    "#print('exp',expwvfn.amplitude)\n",
    "#print('err',errwvfn.amplitude)\n",
    "#print('<|err>',simwvfn.error(errwvfn.wavefn)"
   ]
  },
  {
   "cell_type": "markdown",
   "metadata": {},
   "source": [
    "## Monopole spin network"
   ]
  },
  {
   "cell_type": "code",
   "execution_count": 495,
   "metadata": {},
   "outputs": [
    {
     "name": "stdout",
     "output_type": "stream",
     "text": [
      "0.2354 0.2941749351203427\n",
      "([0.345, 0.335, 0.341, 0.343, 0.351], 0.34299999999999997)\n"
     ]
    }
   ],
   "source": [
    "# get all samples of the name 'zero_transition_*' and 'one_transition_*'\n",
    "zmono = post.Experiment(results, 'zero_transition_*', 8)\n",
    "a = zmono.amplitude()[1]\n",
    "zmono.post_select(post.keepfn_even)\n",
    "b = zmono.amplitude()[1]\n",
    "print(a,b)\n",
    "\n",
    "omono = post.Experiment(results, 'one_transition_*', 8)\n",
    "#print((a+b)/2)\n",
    "print(omono.amplitude())"
   ]
  },
  {
   "cell_type": "markdown",
   "metadata": {},
   "source": [
    "## Dipole spin network"
   ]
  },
  {
   "cell_type": "code",
   "execution_count": 480,
   "metadata": {
    "scrolled": true
   },
   "outputs": [
    {
     "name": "stdout",
     "output_type": "stream",
     "text": [
      "([0, 0, 0, 0, 0, 0, 0, 0, 0, 0], 0.0)\n",
      "([0], 0.0)\n"
     ]
    }
   ],
   "source": [
    "# get all samples of 04152637\n",
    "zdipole = post.Experiment(results,'zero_two_transition_04152637*', 8)\n",
    "odipole = post.Experiment(results,'one_two_transition_04152637*', 8)\n",
    "print(zdipole.amplitude())\n",
    "print(odipole.amplitude())"
   ]
  },
  {
   "cell_type": "code",
   "execution_count": 493,
   "metadata": {},
   "outputs": [
    {
     "name": "stdout",
     "output_type": "stream",
     "text": [
      "([0.0068, 0.0064, 0.0069, 0.0064, 0.0072, 0.0075, 0.0085, 0.0078, 0.0059, 0.007], 0.00704)\n",
      "0.015099187616127763\n",
      "([0.011037169290699561, 0.010420058612829698, 0.011166855478232724, 0.010291043576137643, 0.011883149034494141, 0.012212994626282364, 0.0136327185244587, 0.012761780104712041, 0.009577922077922078, 0.011347057869995137], 0.01143307491957641)\n",
      "0.03365199256782314\n"
     ]
    }
   ],
   "source": [
    "# get all samples of 04172536\n",
    "zdialtdipole = post.Experiment(results, 'zero_two_transition_04172536*', 8)#, qubitmap=zdialtmap)\n",
    "a = zdialtdipole.amplitude()[1]\n",
    "print(zdialtdipole.probability(2**8-1))\n",
    "zdialtdipole.post_select(post.keepfn_even)\n",
    "b = zdialtdipole.amplitude()[1]\n",
    "avg = (a+b)/2\n",
    "print(avg)\n",
    "print(zdialtdipole.probability(2**8-1))\n",
    "print((1/64-avg)*64)"
   ]
  },
  {
   "cell_type": "code",
   "execution_count": 482,
   "metadata": {},
   "outputs": [
    {
     "ename": "TypeError",
     "evalue": "unsupported operand type(s) for +=: 'int' and 'dict'",
     "output_type": "error",
     "traceback": [
      "\u001b[0;31m---------------------------------------------------------------------------\u001b[0m",
      "\u001b[0;31mTypeError\u001b[0m                                 Traceback (most recent call last)",
      "\u001b[0;32m<ipython-input-482-5a40b9a05946>\u001b[0m in \u001b[0;36m<module>\u001b[0;34m\u001b[0m\n\u001b[1;32m      1\u001b[0m \u001b[0;31m# get all samples of 07152634\u001b[0m\u001b[0;34m\u001b[0m\u001b[0;34m\u001b[0m\u001b[0;34m\u001b[0m\u001b[0m\n\u001b[1;32m      2\u001b[0m \u001b[0modialtmap\u001b[0m \u001b[0;34m=\u001b[0m \u001b[0;34m[\u001b[0m\u001b[0;34m(\u001b[0m\u001b[0;36m0\u001b[0m\u001b[0;34m,\u001b[0m\u001b[0;36m6\u001b[0m\u001b[0;34m)\u001b[0m\u001b[0;34m,\u001b[0m\u001b[0;34m(\u001b[0m\u001b[0;36m3\u001b[0m\u001b[0;34m,\u001b[0m\u001b[0;36m5\u001b[0m\u001b[0;34m)\u001b[0m\u001b[0;34m,\u001b[0m\u001b[0;34m(\u001b[0m\u001b[0;36m6\u001b[0m\u001b[0;34m,\u001b[0m\u001b[0;36m3\u001b[0m\u001b[0;34m)\u001b[0m\u001b[0;34m,\u001b[0m\u001b[0;34m(\u001b[0m\u001b[0;36m5\u001b[0m\u001b[0;34m,\u001b[0m\u001b[0;36m0\u001b[0m\u001b[0;34m)\u001b[0m\u001b[0;34m]\u001b[0m\u001b[0;34m\u001b[0m\u001b[0;34m\u001b[0m\u001b[0m\n\u001b[0;32m----> 3\u001b[0;31m \u001b[0modialt_samples\u001b[0m \u001b[0;34m=\u001b[0m \u001b[0mpost\u001b[0m\u001b[0;34m.\u001b[0m\u001b[0mSample\u001b[0m\u001b[0;34m(\u001b[0m\u001b[0mresults\u001b[0m\u001b[0;34m,\u001b[0m \u001b[0;34m'onetwo_transition_04172536*'\u001b[0m\u001b[0;34m,\u001b[0m \u001b[0;36m8\u001b[0m\u001b[0;34m)\u001b[0m\u001b[0;31m#, qubitmap=odialtmap)\u001b[0m\u001b[0;34m\u001b[0m\u001b[0;34m\u001b[0m\u001b[0m\n\u001b[0m\u001b[1;32m      4\u001b[0m \u001b[0mprint\u001b[0m\u001b[0;34m(\u001b[0m\u001b[0modialt_samples\u001b[0m\u001b[0;34m.\u001b[0m\u001b[0mamplitude\u001b[0m\u001b[0;34m)\u001b[0m\u001b[0;34m\u001b[0m\u001b[0;34m\u001b[0m\u001b[0m\n\u001b[1;32m      5\u001b[0m \u001b[0modialt_samples\u001b[0m\u001b[0;34m.\u001b[0m\u001b[0mpost_select\u001b[0m\u001b[0;34m(\u001b[0m\u001b[0mpost\u001b[0m\u001b[0;34m.\u001b[0m\u001b[0mkeepfn_even\u001b[0m\u001b[0;34m)\u001b[0m\u001b[0;34m\u001b[0m\u001b[0;34m\u001b[0m\u001b[0m\n",
      "\u001b[0;32m~/SynologyDrive/edu-resources/quantum-programming/csci-581-lqg/LQG/postprocess.py\u001b[0m in \u001b[0;36m__init__\u001b[0;34m(self, hist, nqubs, qubitmap)\u001b[0m\n\u001b[1;32m     25\u001b[0m         \u001b[0mself\u001b[0m\u001b[0;34m.\u001b[0m\u001b[0msamples\u001b[0m \u001b[0;34m=\u001b[0m \u001b[0;36m0\u001b[0m\u001b[0;34m\u001b[0m\u001b[0;34m\u001b[0m\u001b[0m\n\u001b[1;32m     26\u001b[0m         \u001b[0;32mfor\u001b[0m \u001b[0m_\u001b[0m\u001b[0;34m,\u001b[0m\u001b[0mvalue\u001b[0m \u001b[0;32min\u001b[0m \u001b[0mhist\u001b[0m\u001b[0;34m.\u001b[0m\u001b[0mitems\u001b[0m\u001b[0;34m(\u001b[0m\u001b[0;34m)\u001b[0m\u001b[0;34m:\u001b[0m\u001b[0;34m\u001b[0m\u001b[0;34m\u001b[0m\u001b[0m\n\u001b[0;32m---> 27\u001b[0;31m             \u001b[0mself\u001b[0m\u001b[0;34m.\u001b[0m\u001b[0msamples\u001b[0m \u001b[0;34m+=\u001b[0m \u001b[0mvalue\u001b[0m\u001b[0;34m\u001b[0m\u001b[0;34m\u001b[0m\u001b[0m\n\u001b[0m\u001b[1;32m     28\u001b[0m         \u001b[0;32mtry\u001b[0m\u001b[0;34m:\u001b[0m\u001b[0;34m\u001b[0m\u001b[0;34m\u001b[0m\u001b[0m\n\u001b[1;32m     29\u001b[0m             \u001b[0mself\u001b[0m\u001b[0;34m.\u001b[0m\u001b[0mamplitude\u001b[0m \u001b[0;34m=\u001b[0m \u001b[0mhist\u001b[0m\u001b[0;34m[\u001b[0m\u001b[0;36m0\u001b[0m\u001b[0;34m]\u001b[0m \u001b[0;34m/\u001b[0m \u001b[0mself\u001b[0m\u001b[0;34m.\u001b[0m\u001b[0msamples\u001b[0m\u001b[0;34m\u001b[0m\u001b[0;34m\u001b[0m\u001b[0m\n",
      "\u001b[0;31mTypeError\u001b[0m: unsupported operand type(s) for +=: 'int' and 'dict'"
     ]
    }
   ],
   "source": [
    "# get all samples of 07152634\n",
    "odialtmap = [(0,6),(3,5),(6,3),(5,0)]\n",
    "odialt_samples = post.Sample(results, 'onetwo_transition_04172536*', 8)#, qubitmap=odialtmap)\n",
    "print(odialt_samples.amplitude)\n",
    "odialt_samples.post_select(post.keepfn_even)"
   ]
  },
  {
   "cell_type": "markdown",
   "metadata": {},
   "source": [
    "## 4-simplex"
   ]
  },
  {
   "cell_type": "code",
   "execution_count": null,
   "metadata": {},
   "outputs": [],
   "source": [
    "\n",
    "\n",
    "print(10_000/1_500_500)\n",
    "osimp_samples = post.glob_samples(results, 'zero_five_transition*', 20)\n",
    "osimp_samples.post_select(post.keepfn_even)\n",
    "print(osimp_samples.amplitude)\n",
    "print(1/2**9)\n",
    "\n",
    "s = 0\n",
    "for key,value in osimp_samples.hist.items():\n",
    "    state = post.split_state(key,20)\n",
    "    if '0000' in state:\n",
    "        s += value\n",
    "print(s/osimp_samples.samples)\n",
    "print(osimp_samples.samples)"
   ]
  },
  {
   "cell_type": "code",
   "execution_count": null,
   "metadata": {},
   "outputs": [],
   "source": [
    "oglue_samples = post.glob_samples(results, 'zero_ten_transition*', 40)\n",
    "print(oglue_samples.probability(2**40-1))\n",
    "for key,value in oglue_samples.hist.items():\n",
    "    if value > 1:\n",
    "        print(tc.binformat(40).format(key))\n",
    "print('done')"
   ]
  },
  {
   "cell_type": "code",
   "execution_count": null,
   "metadata": {},
   "outputs": [],
   "source": [
    "q = cirq.LineQubit.range(4)\n",
    "c = cirq.Circuit(cirq.X.on_each(q),\n",
    "                 cirq.H.on_each(q[0],q[2]),\n",
    "                 cirq.CNOT(q[0],q[1]),\n",
    "                 cirq.CNOT(q[2],q[3]),\n",
    "                 cirq.CNOT(q[0],q[2]),\n",
    "                 cirq.reset(q[3]),\n",
    "                 cirq.H.on_each(q[:2]),\n",
    "                 cirq.X.on_each(q)\n",
    "                )\n",
    "\n",
    "print(c[0].qubits)\n",
    "#print(cirq.Simulator().simulate(c))\n",
    "#c.append(cirq.measure(*q,key='z'))\n",
    "#hist = tc.final_state_simulation(c,100000).histogram(key='z')\n",
    "#for key,value in hist.items():\n",
    "#    print(tc.binformat(4).format(key))\n",
    "SVGCircuit(c)"
   ]
  },
  {
   "cell_type": "code",
   "execution_count": null,
   "metadata": {},
   "outputs": [],
   "source": []
  }
 ],
 "metadata": {
  "kernelspec": {
   "display_name": "Python 3",
   "language": "python",
   "name": "python3"
  },
  "language_info": {
   "codemirror_mode": {
    "name": "ipython",
    "version": 3
   },
   "file_extension": ".py",
   "mimetype": "text/x-python",
   "name": "python",
   "nbconvert_exporter": "python",
   "pygments_lexer": "ipython3",
   "version": "3.8.6"
  },
  "latex_envs": {
   "LaTeX_envs_menu_present": true,
   "autoclose": false,
   "autocomplete": true,
   "bibliofile": "biblio.bib",
   "cite_by": "apalike",
   "current_citInitial": 1,
   "eqLabelWithNumbers": true,
   "eqNumInitial": 1,
   "hotkeys": {
    "equation": "Ctrl-E",
    "itemize": "Ctrl-I"
   },
   "labels_anchors": false,
   "latex_user_defs": false,
   "report_style_numbering": false,
   "user_envs_cfg": false
  },
  "toc": {
   "base_numbering": 1,
   "nav_menu": {},
   "number_sections": true,
   "sideBar": true,
   "skip_h1_title": false,
   "title_cell": "Table of Contents",
   "title_sidebar": "Contents",
   "toc_cell": false,
   "toc_position": {},
   "toc_section_display": true,
   "toc_window_display": false
  }
 },
 "nbformat": 4,
 "nbformat_minor": 4
}
