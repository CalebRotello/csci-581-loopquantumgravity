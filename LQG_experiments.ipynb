{
 "cells": [
  {
   "cell_type": "code",
   "execution_count": 178,
   "metadata": {},
   "outputs": [
    {
     "data": {
      "text/plain": [
       "<module 'LQG.tetrahedra_circuits' from '/home/espresso/SynologyDrive/edu-resources/quantum-programming/csci-581-lqg/LQG/tetrahedra_circuits.py'>"
      ]
     },
     "execution_count": 178,
     "metadata": {},
     "output_type": "execute_result"
    }
   ],
   "source": [
    "import cirq\n",
    "from cirq.contrib.svg import SVGCircuit\n",
    "import numpy as np\n",
    "from imp import reload\n",
    "from LQG import tetrahedra_num as tet\n",
    "from LQG import tetrahedra_circuits as tc\n",
    "import LQG\n",
    "reload(LQG.tetrahedra_num)\n",
    "reload(LQG.tetrahedra_circuits)"
   ]
  },
  {
   "cell_type": "markdown",
   "metadata": {},
   "source": [
    "# Quantum Tetrahedron State Preparation"
   ]
  },
  {
   "cell_type": "code",
   "execution_count": 179,
   "metadata": {},
   "outputs": [],
   "source": [
    "def tetra_0s(qubits):\n",
    "    ''' make the |0L> circuit \n",
    "    '''\n",
    "    if len(qubits) != 4:\n",
    "        print('error, tried to make tetrahadron without n=4 qubits')\n",
    "        exit(1)\n",
    "    yield cirq.X.on_each(qubits)\n",
    "    yield cirq.H.on_each(qubits[::2])\n",
    "    yield cirq.CNOT(qubits[0],qubits[1])\n",
    "    yield cirq.CNOT(qubits[2],qubits[3])\n",
    "    \n",
    "def cnots(qubit_pairs):\n",
    "    ''' take a list of pairs of qubits, CNOT each individual list\n",
    "    '''\n",
    "    for pair in qubit_pairs:\n",
    "        yield cirq.CNOT(pair[0],pair[1])\n",
    "        \n",
    "def end_vec(circuit):\n",
    "    ''' get predicted end state of a circuit\n",
    "    '''\n",
    "    sim = cirq.Simulator()\n",
    "    end = sim.simulate(circuit)\n",
    "    return end\n",
    "    \n"
   ]
  },
  {
   "cell_type": "code",
   "execution_count": 180,
   "metadata": {},
   "outputs": [
    {
     "name": "stdout",
     "output_type": "stream",
     "text": [
      "Test monopole |0L>, should be ~0.25:  0.24999994039535878\n",
      "Test |0L> state prep, should be ~1:  (0.9999998807907104+0j)\n",
      "[[ 0.+0.j  1.+0.j]\n",
      " [-1.+0.j  0.-0.j]]\n",
      "Test arbitrary state prep with 0,0:  (0.9999999403953552+0j)\n"
     ]
    }
   ],
   "source": [
    "qubits = cirq.LineQubit.range(8)\n",
    "bit_flip = cirq.bit_flip(p=.1)\n",
    "\n",
    "'''test the monopole amplitude\n",
    "'''\n",
    "circuit = cirq.Circuit( [cirq.H(qubits[0]),\n",
    "                         cirq.H(qubits[1]),\n",
    "                         cirq.CNOT(qubits[1],qubits[2])**-1,\n",
    "                         cirq.X(qubits[2]),\n",
    "                         cnots([(qubits[0],qubits[1]),\n",
    "                                (qubits[2],qubits[3]),\n",
    "                                (qubits[1],qubits[2]),\n",
    "                                (qubits[0],qubits[3])]),\n",
    "                         bit_flip.on_each(qubits[:4])])\n",
    "\n",
    "circuit.append([cirq.H.on_each(qubits[:2]), cirq.X.on_each(qubits[:4])])\n",
    "end = end_vec(circuit).final_state_vector\n",
    "target = tet.L_zero\n",
    "print('Test monopole |0L>, should be ~0.25: ', np.abs(np.dot(target,end))**2)\n",
    "\n",
    "\n",
    "''' test the state preparation\n",
    "'''\n",
    "circuit = cirq.Circuit(tetra_0s(qubits[:4]), tetra_0s(qubits[4:]))\n",
    "end = end_vec(circuit).final_state_vector\n",
    "target = np.kron(tet.L_zero,sp.L_zero)\n",
    "print('Test |0L> state prep, should be ~1: ',np.dot(end, target))\n",
    "\n",
    "circuit = cirq.Circuit(tc.TetrahedronStatePrep(qubits[:4],0,0))\n",
    "target = tet.L_zero\n",
    "end = end_vec(circuit).final_state_vector\n",
    "print('Test arbitrary state prep with 0,0: ',np.dot(end,target))\n",
    "\n"
   ]
  },
  {
   "cell_type": "code",
   "execution_count": 167,
   "metadata": {},
   "outputs": [
    {
     "data": {
      "image/svg+xml": [
       "<svg xmlns=\"http://www.w3.org/2000/svg\" width=\"531.370234375\" height=\"240.0\"><line x1=\"30.0\" x2=\"501.370234375\" y1=\"45.0\" y2=\"45.0\" stroke=\"#1967d2\" stroke-width=\"1\" /><line x1=\"30.0\" x2=\"501.370234375\" y1=\"95.0\" y2=\"95.0\" stroke=\"#1967d2\" stroke-width=\"1\" /><line x1=\"30.0\" x2=\"501.370234375\" y1=\"145.0\" y2=\"145.0\" stroke=\"#1967d2\" stroke-width=\"1\" /><line x1=\"30.0\" x2=\"501.370234375\" y1=\"195.0\" y2=\"195.0\" stroke=\"#1967d2\" stroke-width=\"1\" /><line x1=\"211.370234375\" x2=\"301.370234375\" y1=\"5.0\" y2=\"5.0\" stroke=\"black\" stroke-width=\"1\" /><line x1=\"211.370234375\" x2=\"301.370234375\" y1=\"235.0\" y2=\"235.0\" stroke=\"black\" stroke-width=\"1\" /><line x1=\"173.41843749999998\" x2=\"173.41843749999998\" y1=\"95.0\" y2=\"145.0\" stroke=\"black\" stroke-width=\"3\" /><line x1=\"271.370234375\" x2=\"271.370234375\" y1=\"95.0\" y2=\"195.0\" stroke=\"black\" stroke-width=\"3\" /><line x1=\"341.370234375\" x2=\"341.370234375\" y1=\"45.0\" y2=\"95.0\" stroke=\"black\" stroke-width=\"3\" /><line x1=\"401.370234375\" x2=\"401.370234375\" y1=\"95.0\" y2=\"145.0\" stroke=\"black\" stroke-width=\"3\" /><line x1=\"461.370234375\" x2=\"461.370234375\" y1=\"145.0\" y2=\"195.0\" stroke=\"black\" stroke-width=\"3\" /><line x1=\"211.370234375\" x2=\"211.370234375\" y1=\"5.0\" y2=\"15.0\" stroke=\"black\" stroke-width=\"3\" /><line x1=\"301.370234375\" x2=\"301.370234375\" y1=\"5.0\" y2=\"15.0\" stroke=\"black\" stroke-width=\"3\" /><line x1=\"211.370234375\" x2=\"211.370234375\" y1=\"225.0\" y2=\"235.0\" stroke=\"black\" stroke-width=\"3\" /><line x1=\"301.370234375\" x2=\"301.370234375\" y1=\"225.0\" y2=\"235.0\" stroke=\"black\" stroke-width=\"3\" /><rect x=\"10.0\" y=\"25.0\" width=\"40\" height=\"40\" stroke=\"black\" fill=\"white\" stroke-width=\"0\" /><text x=\"30.0\" y=\"45.0\" dominant-baseline=\"middle\" text-anchor=\"middle\" font-size=\"14px\" font-family=\"Arial\">0: </text><rect x=\"10.0\" y=\"75.0\" width=\"40\" height=\"40\" stroke=\"black\" fill=\"white\" stroke-width=\"0\" /><text x=\"30.0\" y=\"95.0\" dominant-baseline=\"middle\" text-anchor=\"middle\" font-size=\"14px\" font-family=\"Arial\">1: </text><rect x=\"10.0\" y=\"125.0\" width=\"40\" height=\"40\" stroke=\"black\" fill=\"white\" stroke-width=\"0\" /><text x=\"30.0\" y=\"145.0\" dominant-baseline=\"middle\" text-anchor=\"middle\" font-size=\"14px\" font-family=\"Arial\">2: </text><rect x=\"10.0\" y=\"175.0\" width=\"40\" height=\"40\" stroke=\"black\" fill=\"white\" stroke-width=\"0\" /><text x=\"30.0\" y=\"195.0\" dominant-baseline=\"middle\" text-anchor=\"middle\" font-size=\"14px\" font-family=\"Arial\">3: </text><rect x=\"70.0\" y=\"25.0\" width=\"55.466640625\" height=\"40\" stroke=\"black\" fill=\"white\" stroke-width=\"1\" /><text x=\"97.7333203125\" y=\"45.0\" dominant-baseline=\"middle\" text-anchor=\"middle\" font-size=\"18px\" font-family=\"Arial\">H</text><rect x=\"70.0\" y=\"75.0\" width=\"55.466640625\" height=\"40\" stroke=\"black\" fill=\"white\" stroke-width=\"1\" /><text x=\"97.7333203125\" y=\"95.0\" dominant-baseline=\"middle\" text-anchor=\"middle\" font-size=\"14px\" font-family=\"Arial\">U(0, 0)</text><rect x=\"145.46664062499997\" y=\"75.0\" width=\"55.90359375\" height=\"40\" stroke=\"black\" fill=\"white\" stroke-width=\"1\" /><text x=\"173.41843749999998\" y=\"95.0\" dominant-baseline=\"middle\" text-anchor=\"middle\" font-size=\"14px\" font-family=\"Arial\">CV</text><rect x=\"145.46664062499997\" y=\"125.0\" width=\"55.90359375\" height=\"40\" stroke=\"black\" fill=\"white\" stroke-width=\"1\" /><text x=\"173.41843749999998\" y=\"145.0\" dominant-baseline=\"middle\" text-anchor=\"middle\" font-size=\"14px\" font-family=\"Arial\">V(0, 0)</text><rect x=\"211.370234375\" y=\"125.0\" width=\"40\" height=\"40\" stroke=\"black\" fill=\"white\" stroke-width=\"1\" /><text x=\"231.370234375\" y=\"145.0\" dominant-baseline=\"middle\" text-anchor=\"middle\" font-size=\"18px\" font-family=\"Arial\">X</text><circle cx=\"271.370234375\" cy=\"95.0\" r=\"10.0\" /><rect x=\"251.370234375\" y=\"175.0\" width=\"40\" height=\"40\" stroke=\"black\" fill=\"white\" stroke-width=\"1\" /><text x=\"271.370234375\" y=\"195.0\" dominant-baseline=\"middle\" text-anchor=\"middle\" font-size=\"18px\" font-family=\"Arial\">X</text><circle cx=\"341.370234375\" cy=\"45.0\" r=\"10.0\" /><rect x=\"321.370234375\" y=\"75.0\" width=\"40\" height=\"40\" stroke=\"black\" fill=\"white\" stroke-width=\"1\" /><text x=\"341.370234375\" y=\"95.0\" dominant-baseline=\"middle\" text-anchor=\"middle\" font-size=\"18px\" font-family=\"Arial\">X</text><circle cx=\"401.370234375\" cy=\"95.0\" r=\"10.0\" /><rect x=\"381.370234375\" y=\"125.0\" width=\"40\" height=\"40\" stroke=\"black\" fill=\"white\" stroke-width=\"1\" /><text x=\"401.370234375\" y=\"145.0\" dominant-baseline=\"middle\" text-anchor=\"middle\" font-size=\"18px\" font-family=\"Arial\">X</text><circle cx=\"461.370234375\" cy=\"145.0\" r=\"10.0\" /><rect x=\"441.370234375\" y=\"175.0\" width=\"40\" height=\"40\" stroke=\"black\" fill=\"white\" stroke-width=\"1\" /><text x=\"461.370234375\" y=\"195.0\" dominant-baseline=\"middle\" text-anchor=\"middle\" font-size=\"18px\" font-family=\"Arial\">X</text></svg>"
      ],
      "text/plain": [
       "<cirq.contrib.svg.svg.SVGCircuit at 0x7f3ba6806610>"
      ]
     },
     "execution_count": 167,
     "metadata": {},
     "output_type": "execute_result"
    }
   ],
   "source": [
    "SVGCircuit(circuit)"
   ]
  },
  {
   "cell_type": "code",
   "execution_count": null,
   "metadata": {},
   "outputs": [],
   "source": []
  }
 ],
 "metadata": {
  "kernelspec": {
   "display_name": "Python 3",
   "language": "python",
   "name": "python3"
  },
  "language_info": {
   "codemirror_mode": {
    "name": "ipython",
    "version": 3
   },
   "file_extension": ".py",
   "mimetype": "text/x-python",
   "name": "python",
   "nbconvert_exporter": "python",
   "pygments_lexer": "ipython3",
   "version": "3.8.6"
  },
  "toc": {
   "base_numbering": 1,
   "nav_menu": {},
   "number_sections": true,
   "sideBar": true,
   "skip_h1_title": false,
   "title_cell": "Table of Contents",
   "title_sidebar": "Contents",
   "toc_cell": false,
   "toc_position": {},
   "toc_section_display": true,
   "toc_window_display": false
  }
 },
 "nbformat": 4,
 "nbformat_minor": 4
}
