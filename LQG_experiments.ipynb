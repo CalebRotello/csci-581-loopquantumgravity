{
 "cells": [
  {
   "cell_type": "code",
   "execution_count": 211,
   "metadata": {},
   "outputs": [
    {
     "data": {
      "text/plain": [
       "<module 'LQG.tetrahedra_circuits' from '/home/espresso/SynologyDrive/edu-resources/quantum-programming/csci-581-lqg/LQG/tetrahedra_circuits.py'>"
      ]
     },
     "execution_count": 211,
     "metadata": {},
     "output_type": "execute_result"
    }
   ],
   "source": [
    "import cirq\n",
    "from cirq.contrib.svg import SVGCircuit\n",
    "import numpy as np\n",
    "from imp import reload\n",
    "from LQG import tetrahedra_num as tn\n",
    "from LQG import tetrahedra_circuits as tc\n",
    "import LQG\n",
    "reload(LQG.tetrahedra_num)\n",
    "reload(LQG.tetrahedra_circuits)"
   ]
  },
  {
   "cell_type": "markdown",
   "metadata": {},
   "source": [
    "# Quantum Tetrahedron State Preparation"
   ]
  },
  {
   "cell_type": "code",
   "execution_count": 190,
   "metadata": {},
   "outputs": [],
   "source": [
    "def tetra_0s(qubits):\n",
    "    ''' make the |0L> circuit \n",
    "    '''\n",
    "    if len(qubits) != 4:\n",
    "        print('error, tried to make tetrahadron without n=4 qubits')\n",
    "        exit(1)\n",
    "    yield cirq.X.on_each(qubits)\n",
    "    yield cirq.H.on_each(qubits[::2])\n",
    "    yield cirq.CNOT(qubits[0],qubits[1])\n",
    "    yield cirq.CNOT(qubits[2],qubits[3])\n",
    "    \n",
    "def cnots(qubit_pairs):\n",
    "    ''' take a list of pairs of qubits, CNOT each individual list\n",
    "    '''\n",
    "    for pair in qubit_pairs:\n",
    "        yield cirq.CNOT(pair[0],pair[1])\n",
    "        \n",
    "def cnots(qubits,qubit_pairs):\n",
    "    ''' take a list of pairs of qubits, CNOT each individual list\n",
    "    '''\n",
    "    for pair in qubit_pairs:\n",
    "        yield cirq.CNOT(qubits[pair[0]],qubits[pair[1]])       \n",
    "def end_vec(circuit):\n",
    "    ''' get predicted end state of a circuit\n",
    "    '''\n",
    "    sim = cirq.Simulator()\n",
    "    end = sim.simulate(circuit)\n",
    "    return end\n",
    "    \n"
   ]
  },
  {
   "cell_type": "code",
   "execution_count": 185,
   "metadata": {},
   "outputs": [
    {
     "name": "stdout",
     "output_type": "stream",
     "text": [
      "Test monopole |0L>, should be ~0.25:  0.24999994039535878\n",
      "Test |0L> state prep, should be ~1:  (0.9999998807907104+0j)\n",
      "[[ 0.+0.j  1.+0.j]\n",
      " [-1.+0.j  0.-0.j]]\n",
      "Test arbitrary state prep with 0,0:  (0.9999999403953552+0j)\n"
     ]
    }
   ],
   "source": [
    "qubits = cirq.LineQubit.range(8)\n",
    "bit_flip = cirq.bit_flip(p=.1)\n",
    "\n",
    "'''test the monopole amplitude\n",
    "'''\n",
    "circuit = cirq.Circuit( [cirq.H(qubits[0]),\n",
    "                         cirq.H(qubits[1]),\n",
    "                         cirq.CNOT(qubits[1],qubits[2])**-1,\n",
    "                         cirq.X(qubits[2]),\n",
    "                         cnots([(qubits[0],qubits[1]),\n",
    "                                (qubits[2],qubits[3]),\n",
    "                                (qubits[1],qubits[2]),\n",
    "                                (qubits[0],qubits[3])]),\n",
    "                         bit_flip.on_each(qubits[:4])])\n",
    "\n",
    "circuit.append([cirq.H.on_each(qubits[:2]), cirq.X.on_each(qubits[:4])])\n",
    "end = end_vec(circuit).final_state_vector\n",
    "target = tet.L_zero\n",
    "print('Test monopole |0L>, should be ~0.25: ', np.abs(np.dot(target,end))**2)\n",
    "\n",
    "\n",
    "''' test the state preparation\n",
    "'''\n",
    "circuit = cirq.Circuit(tetra_0s(qubits[:4]), tetra_0s(qubits[4:]))\n",
    "end = end_vec(circuit).final_state_vector\n",
    "target = np.kron(tet.L_zero,sp.L_zero)\n",
    "print('Test |0L> state prep, should be ~1: ',np.dot(end, target))\n",
    "\n",
    "circuit = cirq.Circuit(tc.TetrahedronStatePrep(qubits[:4],0,0))\n",
    "target = tet.L_zero\n",
    "end = end_vec(circuit).final_state_vector\n",
    "print('Test arbitrary state prep with 0,0: ',np.dot(end,target))\n",
    "\n"
   ]
  },
  {
   "cell_type": "code",
   "execution_count": 186,
   "metadata": {},
   "outputs": [
    {
     "data": {
      "image/svg+xml": [
       "<svg xmlns=\"http://www.w3.org/2000/svg\" width=\"611.5284375000001\" height=\"240.0\"><line x1=\"30.0\" x2=\"581.5284375000001\" y1=\"45.0\" y2=\"45.0\" stroke=\"#1967d2\" stroke-width=\"1\" /><line x1=\"30.0\" x2=\"581.5284375000001\" y1=\"95.0\" y2=\"95.0\" stroke=\"#1967d2\" stroke-width=\"1\" /><line x1=\"30.0\" x2=\"581.5284375000001\" y1=\"145.0\" y2=\"145.0\" stroke=\"#1967d2\" stroke-width=\"1\" /><line x1=\"30.0\" x2=\"581.5284375000001\" y1=\"195.0\" y2=\"195.0\" stroke=\"#1967d2\" stroke-width=\"1\" /><line x1=\"291.52843750000005\" x2=\"381.52843750000005\" y1=\"5.0\" y2=\"5.0\" stroke=\"black\" stroke-width=\"1\" /><line x1=\"291.52843750000005\" x2=\"381.52843750000005\" y1=\"235.0\" y2=\"235.0\" stroke=\"black\" stroke-width=\"1\" /><line x1=\"233.53708984375004\" x2=\"233.53708984375004\" y1=\"95.0\" y2=\"145.0\" stroke=\"black\" stroke-width=\"3\" /><line x1=\"351.52843750000005\" x2=\"351.52843750000005\" y1=\"95.0\" y2=\"195.0\" stroke=\"black\" stroke-width=\"3\" /><line x1=\"421.52843750000005\" x2=\"421.52843750000005\" y1=\"45.0\" y2=\"95.0\" stroke=\"black\" stroke-width=\"3\" /><line x1=\"481.52843750000005\" x2=\"481.52843750000005\" y1=\"95.0\" y2=\"145.0\" stroke=\"black\" stroke-width=\"3\" /><line x1=\"541.5284375000001\" x2=\"541.5284375000001\" y1=\"145.0\" y2=\"195.0\" stroke=\"black\" stroke-width=\"3\" /><line x1=\"291.52843750000005\" x2=\"291.52843750000005\" y1=\"5.0\" y2=\"15.0\" stroke=\"black\" stroke-width=\"3\" /><line x1=\"381.52843750000005\" x2=\"381.52843750000005\" y1=\"5.0\" y2=\"15.0\" stroke=\"black\" stroke-width=\"3\" /><line x1=\"291.52843750000005\" x2=\"291.52843750000005\" y1=\"225.0\" y2=\"235.0\" stroke=\"black\" stroke-width=\"3\" /><line x1=\"381.52843750000005\" x2=\"381.52843750000005\" y1=\"225.0\" y2=\"235.0\" stroke=\"black\" stroke-width=\"3\" /><rect x=\"10.0\" y=\"25.0\" width=\"40\" height=\"40\" stroke=\"black\" fill=\"white\" stroke-width=\"0\" /><text x=\"30.0\" y=\"45.0\" dominant-baseline=\"middle\" text-anchor=\"middle\" font-size=\"14px\" font-family=\"Arial\">0: </text><rect x=\"10.0\" y=\"75.0\" width=\"40\" height=\"40\" stroke=\"black\" fill=\"white\" stroke-width=\"0\" /><text x=\"30.0\" y=\"95.0\" dominant-baseline=\"middle\" text-anchor=\"middle\" font-size=\"14px\" font-family=\"Arial\">1: </text><rect x=\"10.0\" y=\"125.0\" width=\"40\" height=\"40\" stroke=\"black\" fill=\"white\" stroke-width=\"0\" /><text x=\"30.0\" y=\"145.0\" dominant-baseline=\"middle\" text-anchor=\"middle\" font-size=\"14px\" font-family=\"Arial\">2: </text><rect x=\"10.0\" y=\"175.0\" width=\"40\" height=\"40\" stroke=\"black\" fill=\"white\" stroke-width=\"0\" /><text x=\"30.0\" y=\"195.0\" dominant-baseline=\"middle\" text-anchor=\"middle\" font-size=\"14px\" font-family=\"Arial\">3: </text><rect x=\"70.0\" y=\"25.0\" width=\"95.54574218750001\" height=\"40\" stroke=\"black\" fill=\"white\" stroke-width=\"1\" /><text x=\"117.77287109375001\" y=\"45.0\" dominant-baseline=\"middle\" text-anchor=\"middle\" font-size=\"18px\" font-family=\"Arial\">H</text><rect x=\"70.0\" y=\"75.0\" width=\"95.54574218750001\" height=\"40\" stroke=\"black\" fill=\"white\" stroke-width=\"1\" /><text x=\"117.77287109375001\" y=\"95.0\" dominant-baseline=\"middle\" text-anchor=\"middle\" font-size=\"14px\" font-family=\"Arial\">U(0.00,0.00)</text><rect x=\"185.54574218750003\" y=\"75.0\" width=\"95.98269531250001\" height=\"40\" stroke=\"black\" fill=\"white\" stroke-width=\"1\" /><text x=\"233.53708984375004\" y=\"95.0\" dominant-baseline=\"middle\" text-anchor=\"middle\" font-size=\"14px\" font-family=\"Arial\">CV</text><rect x=\"185.54574218750003\" y=\"125.0\" width=\"95.98269531250001\" height=\"40\" stroke=\"black\" fill=\"white\" stroke-width=\"1\" /><text x=\"233.53708984375004\" y=\"145.0\" dominant-baseline=\"middle\" text-anchor=\"middle\" font-size=\"14px\" font-family=\"Arial\">V(0.00,0.00)</text><rect x=\"291.52843750000005\" y=\"125.0\" width=\"40\" height=\"40\" stroke=\"black\" fill=\"white\" stroke-width=\"1\" /><text x=\"311.52843750000005\" y=\"145.0\" dominant-baseline=\"middle\" text-anchor=\"middle\" font-size=\"18px\" font-family=\"Arial\">X</text><circle cx=\"351.52843750000005\" cy=\"95.0\" r=\"10.0\" /><rect x=\"331.52843750000005\" y=\"175.0\" width=\"40\" height=\"40\" stroke=\"black\" fill=\"white\" stroke-width=\"1\" /><text x=\"351.52843750000005\" y=\"195.0\" dominant-baseline=\"middle\" text-anchor=\"middle\" font-size=\"18px\" font-family=\"Arial\">X</text><circle cx=\"421.52843750000005\" cy=\"45.0\" r=\"10.0\" /><rect x=\"401.52843750000005\" y=\"75.0\" width=\"40\" height=\"40\" stroke=\"black\" fill=\"white\" stroke-width=\"1\" /><text x=\"421.52843750000005\" y=\"95.0\" dominant-baseline=\"middle\" text-anchor=\"middle\" font-size=\"18px\" font-family=\"Arial\">X</text><circle cx=\"481.52843750000005\" cy=\"95.0\" r=\"10.0\" /><rect x=\"461.52843750000005\" y=\"125.0\" width=\"40\" height=\"40\" stroke=\"black\" fill=\"white\" stroke-width=\"1\" /><text x=\"481.52843750000005\" y=\"145.0\" dominant-baseline=\"middle\" text-anchor=\"middle\" font-size=\"18px\" font-family=\"Arial\">X</text><circle cx=\"541.5284375000001\" cy=\"145.0\" r=\"10.0\" /><rect x=\"521.5284375000001\" y=\"175.0\" width=\"40\" height=\"40\" stroke=\"black\" fill=\"white\" stroke-width=\"1\" /><text x=\"541.5284375000001\" y=\"195.0\" dominant-baseline=\"middle\" text-anchor=\"middle\" font-size=\"18px\" font-family=\"Arial\">X</text></svg>"
      ],
      "text/plain": [
       "<cirq.contrib.svg.svg.SVGCircuit at 0x7f3ba66a4c40>"
      ]
     },
     "execution_count": 186,
     "metadata": {},
     "output_type": "execute_result"
    }
   ],
   "source": [
    "SVGCircuit(circuit)"
   ]
  },
  {
   "cell_type": "markdown",
   "metadata": {},
   "source": [
    "# Entangling States"
   ]
  },
  {
   "cell_type": "code",
   "execution_count": 195,
   "metadata": {},
   "outputs": [
    {
     "name": "stdout",
     "output_type": "stream",
     "text": [
      "                                             ┌──┐\n",
      "0: ────H─────────────────────────────@────────@─────\n",
      "                                     │        │\n",
      "1: ────U(0.00,0.00)───CV─────────────X────────┼@────\n",
      "                      │                       ││\n",
      "2: ───────────────────V(0.00,0.00)───X───@────┼X────\n",
      "                                         │    │\n",
      "3: ──────────────────────────────────────X────X─────\n",
      "\n",
      "4: ────H─────────────────────────────@────────@─────\n",
      "                                     │        │\n",
      "5: ────U(0.00,0.00)───CV─────────────X────────┼@────\n",
      "                      │                       ││\n",
      "6: ───────────────────V(0.00,0.00)───X───@────┼X────\n",
      "                                         │    │\n",
      "7: ──────────────────────────────────────X────X─────\n",
      "\n",
      "8: ────H─────────────────────────────@────────@─────\n",
      "                                     │        │\n",
      "9: ────U(0.00,0.00)───CV─────────────X────────┼@────\n",
      "                      │                       ││\n",
      "10: ──────────────────V(0.00,0.00)───X───@────┼X────\n",
      "                                         │    │\n",
      "11: ─────────────────────────────────────X────X─────\n",
      "                                             └──┘\n"
     ]
    },
    {
     "data": {
      "image/svg+xml": [
       "<svg xmlns=\"http://www.w3.org/2000/svg\" width=\"1091.5284375\" height=\"640.0\"><line x1=\"30.0\" x2=\"1061.5284375\" y1=\"45.0\" y2=\"45.0\" stroke=\"#1967d2\" stroke-width=\"1\" /><line x1=\"30.0\" x2=\"1061.5284375\" y1=\"95.0\" y2=\"95.0\" stroke=\"#1967d2\" stroke-width=\"1\" /><line x1=\"30.0\" x2=\"1061.5284375\" y1=\"145.0\" y2=\"145.0\" stroke=\"#1967d2\" stroke-width=\"1\" /><line x1=\"30.0\" x2=\"1061.5284375\" y1=\"195.0\" y2=\"195.0\" stroke=\"#1967d2\" stroke-width=\"1\" /><line x1=\"30.0\" x2=\"1061.5284375\" y1=\"245.0\" y2=\"245.0\" stroke=\"#1967d2\" stroke-width=\"1\" /><line x1=\"30.0\" x2=\"1061.5284375\" y1=\"295.0\" y2=\"295.0\" stroke=\"#1967d2\" stroke-width=\"1\" /><line x1=\"30.0\" x2=\"1061.5284375\" y1=\"345.0\" y2=\"345.0\" stroke=\"#1967d2\" stroke-width=\"1\" /><line x1=\"30.0\" x2=\"1061.5284375\" y1=\"395.0\" y2=\"395.0\" stroke=\"#1967d2\" stroke-width=\"1\" /><line x1=\"30.0\" x2=\"1061.5284375\" y1=\"445.0\" y2=\"445.0\" stroke=\"#1967d2\" stroke-width=\"1\" /><line x1=\"30.0\" x2=\"1061.5284375\" y1=\"495.0\" y2=\"495.0\" stroke=\"#1967d2\" stroke-width=\"1\" /><line x1=\"30.0\" x2=\"1061.5284375\" y1=\"545.0\" y2=\"545.0\" stroke=\"#1967d2\" stroke-width=\"1\" /><line x1=\"30.0\" x2=\"1061.5284375\" y1=\"595.0\" y2=\"595.0\" stroke=\"#1967d2\" stroke-width=\"1\" /><line x1=\"911.5284375000001\" x2=\"1041.5284375\" y1=\"5.0\" y2=\"5.0\" stroke=\"black\" stroke-width=\"1\" /><line x1=\"911.5284375000001\" x2=\"1041.5284375\" y1=\"635.0\" y2=\"635.0\" stroke=\"black\" stroke-width=\"1\" /><line x1=\"691.5284375000001\" x2=\"901.5284375000001\" y1=\"5.0\" y2=\"5.0\" stroke=\"black\" stroke-width=\"1\" /><line x1=\"691.5284375000001\" x2=\"901.5284375000001\" y1=\"635.0\" y2=\"635.0\" stroke=\"black\" stroke-width=\"1\" /><line x1=\"511.52843750000005\" x2=\"681.5284375000001\" y1=\"5.0\" y2=\"5.0\" stroke=\"black\" stroke-width=\"1\" /><line x1=\"511.52843750000005\" x2=\"681.5284375000001\" y1=\"635.0\" y2=\"635.0\" stroke=\"black\" stroke-width=\"1\" /><line x1=\"411.52843750000005\" x2=\"501.52843750000005\" y1=\"5.0\" y2=\"5.0\" stroke=\"black\" stroke-width=\"1\" /><line x1=\"411.52843750000005\" x2=\"501.52843750000005\" y1=\"635.0\" y2=\"635.0\" stroke=\"black\" stroke-width=\"1\" /><line x1=\"233.53708984375004\" x2=\"233.53708984375004\" y1=\"95.0\" y2=\"145.0\" stroke=\"black\" stroke-width=\"3\" /><line x1=\"233.53708984375004\" x2=\"233.53708984375004\" y1=\"295.0\" y2=\"345.0\" stroke=\"black\" stroke-width=\"3\" /><line x1=\"233.53708984375004\" x2=\"233.53708984375004\" y1=\"495.0\" y2=\"545.0\" stroke=\"black\" stroke-width=\"3\" /><line x1=\"321.52843750000005\" x2=\"321.52843750000005\" y1=\"45.0\" y2=\"95.0\" stroke=\"black\" stroke-width=\"3\" /><line x1=\"321.52843750000005\" x2=\"321.52843750000005\" y1=\"245.0\" y2=\"295.0\" stroke=\"black\" stroke-width=\"3\" /><line x1=\"321.52843750000005\" x2=\"321.52843750000005\" y1=\"445.0\" y2=\"495.0\" stroke=\"black\" stroke-width=\"3\" /><line x1=\"381.52843750000005\" x2=\"381.52843750000005\" y1=\"145.0\" y2=\"195.0\" stroke=\"black\" stroke-width=\"3\" /><line x1=\"381.52843750000005\" x2=\"381.52843750000005\" y1=\"345.0\" y2=\"395.0\" stroke=\"black\" stroke-width=\"3\" /><line x1=\"381.52843750000005\" x2=\"381.52843750000005\" y1=\"545.0\" y2=\"595.0\" stroke=\"black\" stroke-width=\"3\" /><line x1=\"431.52843750000005\" x2=\"431.52843750000005\" y1=\"45.0\" y2=\"195.0\" stroke=\"black\" stroke-width=\"3\" /><line x1=\"471.52843750000005\" x2=\"471.52843750000005\" y1=\"95.0\" y2=\"145.0\" stroke=\"black\" stroke-width=\"3\" /><line x1=\"431.52843750000005\" x2=\"431.52843750000005\" y1=\"245.0\" y2=\"395.0\" stroke=\"black\" stroke-width=\"3\" /><line x1=\"471.52843750000005\" x2=\"471.52843750000005\" y1=\"295.0\" y2=\"345.0\" stroke=\"black\" stroke-width=\"3\" /><line x1=\"431.52843750000005\" x2=\"431.52843750000005\" y1=\"445.0\" y2=\"595.0\" stroke=\"black\" stroke-width=\"3\" /><line x1=\"471.52843750000005\" x2=\"471.52843750000005\" y1=\"495.0\" y2=\"545.0\" stroke=\"black\" stroke-width=\"3\" /><line x1=\"531.5284375000001\" x2=\"531.5284375000001\" y1=\"45.0\" y2=\"245.0\" stroke=\"black\" stroke-width=\"3\" /><line x1=\"571.5284375000001\" x2=\"571.5284375000001\" y1=\"145.0\" y2=\"295.0\" stroke=\"black\" stroke-width=\"3\" /><line x1=\"611.5284375000001\" x2=\"611.5284375000001\" y1=\"195.0\" y2=\"345.0\" stroke=\"black\" stroke-width=\"3\" /><line x1=\"651.5284375000001\" x2=\"651.5284375000001\" y1=\"95.0\" y2=\"495.0\" stroke=\"black\" stroke-width=\"3\" /><line x1=\"711.5284375000001\" x2=\"711.5284375000001\" y1=\"245.0\" y2=\"395.0\" stroke=\"black\" stroke-width=\"3\" /><line x1=\"751.5284375000001\" x2=\"751.5284375000001\" y1=\"45.0\" y2=\"445.0\" stroke=\"black\" stroke-width=\"3\" /><line x1=\"791.5284375000001\" x2=\"791.5284375000001\" y1=\"145.0\" y2=\"545.0\" stroke=\"black\" stroke-width=\"3\" /><line x1=\"831.5284375000001\" x2=\"831.5284375000001\" y1=\"195.0\" y2=\"595.0\" stroke=\"black\" stroke-width=\"3\" /><line x1=\"871.5284375000001\" x2=\"871.5284375000001\" y1=\"295.0\" y2=\"495.0\" stroke=\"black\" stroke-width=\"3\" /><line x1=\"931.5284375000001\" x2=\"931.5284375000001\" y1=\"245.0\" y2=\"445.0\" stroke=\"black\" stroke-width=\"3\" /><line x1=\"971.5284375000001\" x2=\"971.5284375000001\" y1=\"345.0\" y2=\"545.0\" stroke=\"black\" stroke-width=\"3\" /><line x1=\"1011.5284375000001\" x2=\"1011.5284375000001\" y1=\"395.0\" y2=\"595.0\" stroke=\"black\" stroke-width=\"3\" /><line x1=\"911.5284375000001\" x2=\"911.5284375000001\" y1=\"5.0\" y2=\"15.0\" stroke=\"black\" stroke-width=\"3\" /><line x1=\"1041.5284375\" x2=\"1041.5284375\" y1=\"5.0\" y2=\"15.0\" stroke=\"black\" stroke-width=\"3\" /><line x1=\"911.5284375000001\" x2=\"911.5284375000001\" y1=\"625.0\" y2=\"635.0\" stroke=\"black\" stroke-width=\"3\" /><line x1=\"1041.5284375\" x2=\"1041.5284375\" y1=\"625.0\" y2=\"635.0\" stroke=\"black\" stroke-width=\"3\" /><line x1=\"691.5284375000001\" x2=\"691.5284375000001\" y1=\"5.0\" y2=\"15.0\" stroke=\"black\" stroke-width=\"3\" /><line x1=\"901.5284375000001\" x2=\"901.5284375000001\" y1=\"5.0\" y2=\"15.0\" stroke=\"black\" stroke-width=\"3\" /><line x1=\"691.5284375000001\" x2=\"691.5284375000001\" y1=\"625.0\" y2=\"635.0\" stroke=\"black\" stroke-width=\"3\" /><line x1=\"901.5284375000001\" x2=\"901.5284375000001\" y1=\"625.0\" y2=\"635.0\" stroke=\"black\" stroke-width=\"3\" /><line x1=\"511.52843750000005\" x2=\"511.52843750000005\" y1=\"5.0\" y2=\"15.0\" stroke=\"black\" stroke-width=\"3\" /><line x1=\"681.5284375000001\" x2=\"681.5284375000001\" y1=\"5.0\" y2=\"15.0\" stroke=\"black\" stroke-width=\"3\" /><line x1=\"511.52843750000005\" x2=\"511.52843750000005\" y1=\"625.0\" y2=\"635.0\" stroke=\"black\" stroke-width=\"3\" /><line x1=\"681.5284375000001\" x2=\"681.5284375000001\" y1=\"625.0\" y2=\"635.0\" stroke=\"black\" stroke-width=\"3\" /><line x1=\"411.52843750000005\" x2=\"411.52843750000005\" y1=\"5.0\" y2=\"15.0\" stroke=\"black\" stroke-width=\"3\" /><line x1=\"501.52843750000005\" x2=\"501.52843750000005\" y1=\"5.0\" y2=\"15.0\" stroke=\"black\" stroke-width=\"3\" /><line x1=\"411.52843750000005\" x2=\"411.52843750000005\" y1=\"625.0\" y2=\"635.0\" stroke=\"black\" stroke-width=\"3\" /><line x1=\"501.52843750000005\" x2=\"501.52843750000005\" y1=\"625.0\" y2=\"635.0\" stroke=\"black\" stroke-width=\"3\" /><rect x=\"10.0\" y=\"25.0\" width=\"40\" height=\"40\" stroke=\"black\" fill=\"white\" stroke-width=\"0\" /><text x=\"30.0\" y=\"45.0\" dominant-baseline=\"middle\" text-anchor=\"middle\" font-size=\"14px\" font-family=\"Arial\">0: </text><rect x=\"10.0\" y=\"75.0\" width=\"40\" height=\"40\" stroke=\"black\" fill=\"white\" stroke-width=\"0\" /><text x=\"30.0\" y=\"95.0\" dominant-baseline=\"middle\" text-anchor=\"middle\" font-size=\"14px\" font-family=\"Arial\">1: </text><rect x=\"10.0\" y=\"125.0\" width=\"40\" height=\"40\" stroke=\"black\" fill=\"white\" stroke-width=\"0\" /><text x=\"30.0\" y=\"145.0\" dominant-baseline=\"middle\" text-anchor=\"middle\" font-size=\"14px\" font-family=\"Arial\">2: </text><rect x=\"10.0\" y=\"175.0\" width=\"40\" height=\"40\" stroke=\"black\" fill=\"white\" stroke-width=\"0\" /><text x=\"30.0\" y=\"195.0\" dominant-baseline=\"middle\" text-anchor=\"middle\" font-size=\"14px\" font-family=\"Arial\">3: </text><rect x=\"10.0\" y=\"225.0\" width=\"40\" height=\"40\" stroke=\"black\" fill=\"white\" stroke-width=\"0\" /><text x=\"30.0\" y=\"245.0\" dominant-baseline=\"middle\" text-anchor=\"middle\" font-size=\"14px\" font-family=\"Arial\">4: </text><rect x=\"10.0\" y=\"275.0\" width=\"40\" height=\"40\" stroke=\"black\" fill=\"white\" stroke-width=\"0\" /><text x=\"30.0\" y=\"295.0\" dominant-baseline=\"middle\" text-anchor=\"middle\" font-size=\"14px\" font-family=\"Arial\">5: </text><rect x=\"10.0\" y=\"325.0\" width=\"40\" height=\"40\" stroke=\"black\" fill=\"white\" stroke-width=\"0\" /><text x=\"30.0\" y=\"345.0\" dominant-baseline=\"middle\" text-anchor=\"middle\" font-size=\"14px\" font-family=\"Arial\">6: </text><rect x=\"10.0\" y=\"375.0\" width=\"40\" height=\"40\" stroke=\"black\" fill=\"white\" stroke-width=\"0\" /><text x=\"30.0\" y=\"395.0\" dominant-baseline=\"middle\" text-anchor=\"middle\" font-size=\"14px\" font-family=\"Arial\">7: </text><rect x=\"10.0\" y=\"425.0\" width=\"40\" height=\"40\" stroke=\"black\" fill=\"white\" stroke-width=\"0\" /><text x=\"30.0\" y=\"445.0\" dominant-baseline=\"middle\" text-anchor=\"middle\" font-size=\"14px\" font-family=\"Arial\">8: </text><rect x=\"10.0\" y=\"475.0\" width=\"40\" height=\"40\" stroke=\"black\" fill=\"white\" stroke-width=\"0\" /><text x=\"30.0\" y=\"495.0\" dominant-baseline=\"middle\" text-anchor=\"middle\" font-size=\"14px\" font-family=\"Arial\">9: </text><rect x=\"10.0\" y=\"525.0\" width=\"40\" height=\"40\" stroke=\"black\" fill=\"white\" stroke-width=\"0\" /><text x=\"30.0\" y=\"545.0\" dominant-baseline=\"middle\" text-anchor=\"middle\" font-size=\"14px\" font-family=\"Arial\">10: </text><rect x=\"10.0\" y=\"575.0\" width=\"40\" height=\"40\" stroke=\"black\" fill=\"white\" stroke-width=\"0\" /><text x=\"30.0\" y=\"595.0\" dominant-baseline=\"middle\" text-anchor=\"middle\" font-size=\"14px\" font-family=\"Arial\">11: </text><rect x=\"70.0\" y=\"25.0\" width=\"95.54574218750001\" height=\"40\" stroke=\"black\" fill=\"white\" stroke-width=\"1\" /><text x=\"117.77287109375001\" y=\"45.0\" dominant-baseline=\"middle\" text-anchor=\"middle\" font-size=\"18px\" font-family=\"Arial\">H</text><rect x=\"70.0\" y=\"75.0\" width=\"95.54574218750001\" height=\"40\" stroke=\"black\" fill=\"white\" stroke-width=\"1\" /><text x=\"117.77287109375001\" y=\"95.0\" dominant-baseline=\"middle\" text-anchor=\"middle\" font-size=\"14px\" font-family=\"Arial\">U(0.00,0.00)</text><rect x=\"70.0\" y=\"225.0\" width=\"95.54574218750001\" height=\"40\" stroke=\"black\" fill=\"white\" stroke-width=\"1\" /><text x=\"117.77287109375001\" y=\"245.0\" dominant-baseline=\"middle\" text-anchor=\"middle\" font-size=\"18px\" font-family=\"Arial\">H</text><rect x=\"70.0\" y=\"275.0\" width=\"95.54574218750001\" height=\"40\" stroke=\"black\" fill=\"white\" stroke-width=\"1\" /><text x=\"117.77287109375001\" y=\"295.0\" dominant-baseline=\"middle\" text-anchor=\"middle\" font-size=\"14px\" font-family=\"Arial\">U(0.00,0.00)</text><rect x=\"70.0\" y=\"425.0\" width=\"95.54574218750001\" height=\"40\" stroke=\"black\" fill=\"white\" stroke-width=\"1\" /><text x=\"117.77287109375001\" y=\"445.0\" dominant-baseline=\"middle\" text-anchor=\"middle\" font-size=\"18px\" font-family=\"Arial\">H</text><rect x=\"70.0\" y=\"475.0\" width=\"95.54574218750001\" height=\"40\" stroke=\"black\" fill=\"white\" stroke-width=\"1\" /><text x=\"117.77287109375001\" y=\"495.0\" dominant-baseline=\"middle\" text-anchor=\"middle\" font-size=\"14px\" font-family=\"Arial\">U(0.00,0.00)</text><rect x=\"185.54574218750003\" y=\"75.0\" width=\"95.98269531250001\" height=\"40\" stroke=\"black\" fill=\"white\" stroke-width=\"1\" /><text x=\"233.53708984375004\" y=\"95.0\" dominant-baseline=\"middle\" text-anchor=\"middle\" font-size=\"14px\" font-family=\"Arial\">CV</text><rect x=\"185.54574218750003\" y=\"125.0\" width=\"95.98269531250001\" height=\"40\" stroke=\"black\" fill=\"white\" stroke-width=\"1\" /><text x=\"233.53708984375004\" y=\"145.0\" dominant-baseline=\"middle\" text-anchor=\"middle\" font-size=\"14px\" font-family=\"Arial\">V(0.00,0.00)</text><rect x=\"185.54574218750003\" y=\"275.0\" width=\"95.98269531250001\" height=\"40\" stroke=\"black\" fill=\"white\" stroke-width=\"1\" /><text x=\"233.53708984375004\" y=\"295.0\" dominant-baseline=\"middle\" text-anchor=\"middle\" font-size=\"14px\" font-family=\"Arial\">CV</text><rect x=\"185.54574218750003\" y=\"325.0\" width=\"95.98269531250001\" height=\"40\" stroke=\"black\" fill=\"white\" stroke-width=\"1\" /><text x=\"233.53708984375004\" y=\"345.0\" dominant-baseline=\"middle\" text-anchor=\"middle\" font-size=\"14px\" font-family=\"Arial\">V(0.00,0.00)</text><rect x=\"185.54574218750003\" y=\"475.0\" width=\"95.98269531250001\" height=\"40\" stroke=\"black\" fill=\"white\" stroke-width=\"1\" /><text x=\"233.53708984375004\" y=\"495.0\" dominant-baseline=\"middle\" text-anchor=\"middle\" font-size=\"14px\" font-family=\"Arial\">CV</text><rect x=\"185.54574218750003\" y=\"525.0\" width=\"95.98269531250001\" height=\"40\" stroke=\"black\" fill=\"white\" stroke-width=\"1\" /><text x=\"233.53708984375004\" y=\"545.0\" dominant-baseline=\"middle\" text-anchor=\"middle\" font-size=\"14px\" font-family=\"Arial\">V(0.00,0.00)</text><rect x=\"301.52843750000005\" y=\"125.0\" width=\"40\" height=\"40\" stroke=\"black\" fill=\"white\" stroke-width=\"1\" /><text x=\"321.52843750000005\" y=\"145.0\" dominant-baseline=\"middle\" text-anchor=\"middle\" font-size=\"18px\" font-family=\"Arial\">X</text><circle cx=\"321.52843750000005\" cy=\"45.0\" r=\"10.0\" /><rect x=\"301.52843750000005\" y=\"75.0\" width=\"40\" height=\"40\" stroke=\"black\" fill=\"white\" stroke-width=\"1\" /><text x=\"321.52843750000005\" y=\"95.0\" dominant-baseline=\"middle\" text-anchor=\"middle\" font-size=\"18px\" font-family=\"Arial\">X</text><rect x=\"301.52843750000005\" y=\"325.0\" width=\"40\" height=\"40\" stroke=\"black\" fill=\"white\" stroke-width=\"1\" /><text x=\"321.52843750000005\" y=\"345.0\" dominant-baseline=\"middle\" text-anchor=\"middle\" font-size=\"18px\" font-family=\"Arial\">X</text><circle cx=\"321.52843750000005\" cy=\"245.0\" r=\"10.0\" /><rect x=\"301.52843750000005\" y=\"275.0\" width=\"40\" height=\"40\" stroke=\"black\" fill=\"white\" stroke-width=\"1\" /><text x=\"321.52843750000005\" y=\"295.0\" dominant-baseline=\"middle\" text-anchor=\"middle\" font-size=\"18px\" font-family=\"Arial\">X</text><rect x=\"301.52843750000005\" y=\"525.0\" width=\"40\" height=\"40\" stroke=\"black\" fill=\"white\" stroke-width=\"1\" /><text x=\"321.52843750000005\" y=\"545.0\" dominant-baseline=\"middle\" text-anchor=\"middle\" font-size=\"18px\" font-family=\"Arial\">X</text><circle cx=\"321.52843750000005\" cy=\"445.0\" r=\"10.0\" /><rect x=\"301.52843750000005\" y=\"475.0\" width=\"40\" height=\"40\" stroke=\"black\" fill=\"white\" stroke-width=\"1\" /><text x=\"321.52843750000005\" y=\"495.0\" dominant-baseline=\"middle\" text-anchor=\"middle\" font-size=\"18px\" font-family=\"Arial\">X</text><circle cx=\"381.52843750000005\" cy=\"145.0\" r=\"10.0\" /><rect x=\"361.52843750000005\" y=\"175.0\" width=\"40\" height=\"40\" stroke=\"black\" fill=\"white\" stroke-width=\"1\" /><text x=\"381.52843750000005\" y=\"195.0\" dominant-baseline=\"middle\" text-anchor=\"middle\" font-size=\"18px\" font-family=\"Arial\">X</text><circle cx=\"381.52843750000005\" cy=\"345.0\" r=\"10.0\" /><rect x=\"361.52843750000005\" y=\"375.0\" width=\"40\" height=\"40\" stroke=\"black\" fill=\"white\" stroke-width=\"1\" /><text x=\"381.52843750000005\" y=\"395.0\" dominant-baseline=\"middle\" text-anchor=\"middle\" font-size=\"18px\" font-family=\"Arial\">X</text><circle cx=\"381.52843750000005\" cy=\"545.0\" r=\"10.0\" /><rect x=\"361.52843750000005\" y=\"575.0\" width=\"40\" height=\"40\" stroke=\"black\" fill=\"white\" stroke-width=\"1\" /><text x=\"381.52843750000005\" y=\"595.0\" dominant-baseline=\"middle\" text-anchor=\"middle\" font-size=\"18px\" font-family=\"Arial\">X</text><circle cx=\"431.52843750000005\" cy=\"45.0\" r=\"10.0\" /><rect x=\"411.52843750000005\" y=\"175.0\" width=\"40\" height=\"40\" stroke=\"black\" fill=\"white\" stroke-width=\"1\" /><text x=\"431.52843750000005\" y=\"195.0\" dominant-baseline=\"middle\" text-anchor=\"middle\" font-size=\"18px\" font-family=\"Arial\">X</text><circle cx=\"471.52843750000005\" cy=\"95.0\" r=\"10.0\" /><rect x=\"451.52843750000005\" y=\"125.0\" width=\"40\" height=\"40\" stroke=\"black\" fill=\"white\" stroke-width=\"1\" /><text x=\"471.52843750000005\" y=\"145.0\" dominant-baseline=\"middle\" text-anchor=\"middle\" font-size=\"18px\" font-family=\"Arial\">X</text><circle cx=\"431.52843750000005\" cy=\"245.0\" r=\"10.0\" /><rect x=\"411.52843750000005\" y=\"375.0\" width=\"40\" height=\"40\" stroke=\"black\" fill=\"white\" stroke-width=\"1\" /><text x=\"431.52843750000005\" y=\"395.0\" dominant-baseline=\"middle\" text-anchor=\"middle\" font-size=\"18px\" font-family=\"Arial\">X</text><circle cx=\"471.52843750000005\" cy=\"295.0\" r=\"10.0\" /><rect x=\"451.52843750000005\" y=\"325.0\" width=\"40\" height=\"40\" stroke=\"black\" fill=\"white\" stroke-width=\"1\" /><text x=\"471.52843750000005\" y=\"345.0\" dominant-baseline=\"middle\" text-anchor=\"middle\" font-size=\"18px\" font-family=\"Arial\">X</text><circle cx=\"431.52843750000005\" cy=\"445.0\" r=\"10.0\" /><rect x=\"411.52843750000005\" y=\"575.0\" width=\"40\" height=\"40\" stroke=\"black\" fill=\"white\" stroke-width=\"1\" /><text x=\"431.52843750000005\" y=\"595.0\" dominant-baseline=\"middle\" text-anchor=\"middle\" font-size=\"18px\" font-family=\"Arial\">X</text><circle cx=\"471.52843750000005\" cy=\"495.0\" r=\"10.0\" /><rect x=\"451.52843750000005\" y=\"525.0\" width=\"40\" height=\"40\" stroke=\"black\" fill=\"white\" stroke-width=\"1\" /><text x=\"471.52843750000005\" y=\"545.0\" dominant-baseline=\"middle\" text-anchor=\"middle\" font-size=\"18px\" font-family=\"Arial\">X</text><circle cx=\"531.5284375000001\" cy=\"45.0\" r=\"10.0\" /><rect x=\"511.5284375000001\" y=\"225.0\" width=\"40\" height=\"40\" stroke=\"black\" fill=\"white\" stroke-width=\"1\" /><text x=\"531.5284375000001\" y=\"245.0\" dominant-baseline=\"middle\" text-anchor=\"middle\" font-size=\"18px\" font-family=\"Arial\">X</text><circle cx=\"571.5284375000001\" cy=\"145.0\" r=\"10.0\" /><rect x=\"551.5284375000001\" y=\"275.0\" width=\"40\" height=\"40\" stroke=\"black\" fill=\"white\" stroke-width=\"1\" /><text x=\"571.5284375000001\" y=\"295.0\" dominant-baseline=\"middle\" text-anchor=\"middle\" font-size=\"18px\" font-family=\"Arial\">X</text><circle cx=\"611.5284375000001\" cy=\"195.0\" r=\"10.0\" /><rect x=\"591.5284375000001\" y=\"325.0\" width=\"40\" height=\"40\" stroke=\"black\" fill=\"white\" stroke-width=\"1\" /><text x=\"611.5284375000001\" y=\"345.0\" dominant-baseline=\"middle\" text-anchor=\"middle\" font-size=\"18px\" font-family=\"Arial\">X</text><circle cx=\"651.5284375000001\" cy=\"95.0\" r=\"10.0\" /><rect x=\"631.5284375000001\" y=\"475.0\" width=\"40\" height=\"40\" stroke=\"black\" fill=\"white\" stroke-width=\"1\" /><text x=\"651.5284375000001\" y=\"495.0\" dominant-baseline=\"middle\" text-anchor=\"middle\" font-size=\"18px\" font-family=\"Arial\">X</text><circle cx=\"711.5284375000001\" cy=\"245.0\" r=\"10.0\" /><rect x=\"691.5284375000001\" y=\"375.0\" width=\"40\" height=\"40\" stroke=\"black\" fill=\"white\" stroke-width=\"1\" /><text x=\"711.5284375000001\" y=\"395.0\" dominant-baseline=\"middle\" text-anchor=\"middle\" font-size=\"18px\" font-family=\"Arial\">X</text><circle cx=\"751.5284375000001\" cy=\"45.0\" r=\"10.0\" /><rect x=\"731.5284375000001\" y=\"425.0\" width=\"40\" height=\"40\" stroke=\"black\" fill=\"white\" stroke-width=\"1\" /><text x=\"751.5284375000001\" y=\"445.0\" dominant-baseline=\"middle\" text-anchor=\"middle\" font-size=\"18px\" font-family=\"Arial\">X</text><circle cx=\"791.5284375000001\" cy=\"145.0\" r=\"10.0\" /><rect x=\"771.5284375000001\" y=\"525.0\" width=\"40\" height=\"40\" stroke=\"black\" fill=\"white\" stroke-width=\"1\" /><text x=\"791.5284375000001\" y=\"545.0\" dominant-baseline=\"middle\" text-anchor=\"middle\" font-size=\"18px\" font-family=\"Arial\">X</text><circle cx=\"831.5284375000001\" cy=\"195.0\" r=\"10.0\" /><rect x=\"811.5284375000001\" y=\"575.0\" width=\"40\" height=\"40\" stroke=\"black\" fill=\"white\" stroke-width=\"1\" /><text x=\"831.5284375000001\" y=\"595.0\" dominant-baseline=\"middle\" text-anchor=\"middle\" font-size=\"18px\" font-family=\"Arial\">X</text><circle cx=\"871.5284375000001\" cy=\"295.0\" r=\"10.0\" /><rect x=\"851.5284375000001\" y=\"475.0\" width=\"40\" height=\"40\" stroke=\"black\" fill=\"white\" stroke-width=\"1\" /><text x=\"871.5284375000001\" y=\"495.0\" dominant-baseline=\"middle\" text-anchor=\"middle\" font-size=\"18px\" font-family=\"Arial\">X</text><circle cx=\"931.5284375000001\" cy=\"245.0\" r=\"10.0\" /><rect x=\"911.5284375000001\" y=\"425.0\" width=\"40\" height=\"40\" stroke=\"black\" fill=\"white\" stroke-width=\"1\" /><text x=\"931.5284375000001\" y=\"445.0\" dominant-baseline=\"middle\" text-anchor=\"middle\" font-size=\"18px\" font-family=\"Arial\">X</text><circle cx=\"971.5284375000001\" cy=\"345.0\" r=\"10.0\" /><rect x=\"951.5284375000001\" y=\"525.0\" width=\"40\" height=\"40\" stroke=\"black\" fill=\"white\" stroke-width=\"1\" /><text x=\"971.5284375000001\" y=\"545.0\" dominant-baseline=\"middle\" text-anchor=\"middle\" font-size=\"18px\" font-family=\"Arial\">X</text><circle cx=\"1011.5284375000001\" cy=\"395.0\" r=\"10.0\" /><rect x=\"991.5284375000001\" y=\"575.0\" width=\"40\" height=\"40\" stroke=\"black\" fill=\"white\" stroke-width=\"1\" /><text x=\"1011.5284375000001\" y=\"595.0\" dominant-baseline=\"middle\" text-anchor=\"middle\" font-size=\"18px\" font-family=\"Arial\">X</text></svg>"
      ],
      "text/plain": [
       "<cirq.contrib.svg.svg.SVGCircuit at 0x7f3ba691fb80>"
      ]
     },
     "execution_count": 195,
     "metadata": {},
     "output_type": "execute_result"
    }
   ],
   "source": [
    "qubits = cirq.LineQubit.range(12)\n",
    "\n",
    "c = cirq.Circuit(tc.ZeroTet(qubits[:4]),tc.ZeroTet(qubits[4:8]),tc.ZeroTet(qubits[8:]))\n",
    "print(c)\n",
    "c.append(cnots(qubits,[[0,4],[2,5],[3,6],[4,7],\n",
    "                       [0,8],[1,9],[2,10],[3,11],\n",
    "                       [4,8],[5,9],[6,10],[7,11]]),\n",
    "        strategy=cirq.InsertStrategy.EARLIEST)\n",
    "SVGCircuit(c)"
   ]
  },
  {
   "cell_type": "code",
   "execution_count": 196,
   "metadata": {},
   "outputs": [],
   "source": [
    "# S, sqrtiswap, single qubit rotations"
   ]
  },
  {
   "cell_type": "code",
   "execution_count": 207,
   "metadata": {},
   "outputs": [
    {
     "name": "stdout",
     "output_type": "stream",
     "text": [
      "0: ───H─────────────────────────────iSwap──────────────────────────────────\n",
      "                                    │\n",
      "1: ───U(0.00,0.00)───CV─────────────iSwap^-0.5───iSwap─────────────────────\n",
      "                     │                           │\n",
      "2: ──────────────────V(0.00,0.00)───X────────────iSwap^-0.5───iSwap────────\n",
      "                                                              │\n",
      "3: ───────────────────────────────────────────────────────────iSwap^-0.5───\n",
      "measurements: (no measurements)\n",
      "output vector: 0.177|0001⟩ + 0.177j|0010⟩ - 0.25|0100⟩ - 0.25j|0101⟩ + 0.25|0110⟩ + 0.354j|1000⟩ + 0.073|1001⟩ + 0.073j|1010⟩ - 0.604|1100⟩ - 0.354j|1101⟩ + 0.354|1110⟩\n"
     ]
    }
   ],
   "source": [
    "def sqrtISWAP(q1,q2):\n",
    "    return cirq.ISWAP(q1,q2)**-.5\n",
    "Q = cirq.LineQubit.range(4)\n",
    "c = cirq.Circuit(cirq.H(Q[0]),\n",
    "                 tc.UGate(0,0).on(Q[1]),\n",
    "                 tc.CVGate(0,0).on(Q[1],Q[2]),\n",
    "                 cirq.X(Q[2]),\n",
    "                 sqrtISWAP(Q[0],Q[1]),\n",
    "                 sqrtISWAP(Q[1],Q[2]),\n",
    "                 sqrtISWAP(Q[2],Q[3]),\n",
    "                 #sqrtISWAP(Q[3],Q[2]),\n",
    "                 #sqrtISWAP(Q[0],Q[3]),\n",
    "                 #sqrtISWAP(Q[1],Q[2]),\n",
    "                )\n",
    "print(c)\n",
    "print(end_vec(c))\n"
   ]
  },
  {
   "cell_type": "code",
   "execution_count": 217,
   "metadata": {},
   "outputs": [
    {
     "name": "stdout",
     "output_type": "stream",
     "text": [
      "0.006944442788759969\n"
     ]
    },
    {
     "data": {
      "image/svg+xml": [
       "<svg xmlns=\"http://www.w3.org/2000/svg\" width=\"924.3190625000001\" height=\"440.0\"><line x1=\"30.0\" x2=\"894.3190625000001\" y1=\"45.0\" y2=\"45.0\" stroke=\"#1967d2\" stroke-width=\"1\" /><line x1=\"30.0\" x2=\"894.3190625000001\" y1=\"95.0\" y2=\"95.0\" stroke=\"#1967d2\" stroke-width=\"1\" /><line x1=\"30.0\" x2=\"894.3190625000001\" y1=\"145.0\" y2=\"145.0\" stroke=\"#1967d2\" stroke-width=\"1\" /><line x1=\"30.0\" x2=\"894.3190625000001\" y1=\"195.0\" y2=\"195.0\" stroke=\"#1967d2\" stroke-width=\"1\" /><line x1=\"30.0\" x2=\"894.3190625000001\" y1=\"245.0\" y2=\"245.0\" stroke=\"#1967d2\" stroke-width=\"1\" /><line x1=\"30.0\" x2=\"894.3190625000001\" y1=\"295.0\" y2=\"295.0\" stroke=\"#1967d2\" stroke-width=\"1\" /><line x1=\"30.0\" x2=\"894.3190625000001\" y1=\"345.0\" y2=\"345.0\" stroke=\"#1967d2\" stroke-width=\"1\" /><line x1=\"30.0\" x2=\"894.3190625000001\" y1=\"395.0\" y2=\"395.0\" stroke=\"#1967d2\" stroke-width=\"1\" /><line x1=\"511.52843750000005\" x2=\"874.3190625000001\" y1=\"5.0\" y2=\"5.0\" stroke=\"black\" stroke-width=\"1\" /><line x1=\"511.52843750000005\" x2=\"874.3190625000001\" y1=\"435.0\" y2=\"435.0\" stroke=\"black\" stroke-width=\"1\" /><line x1=\"411.52843750000005\" x2=\"501.52843750000005\" y1=\"5.0\" y2=\"5.0\" stroke=\"black\" stroke-width=\"1\" /><line x1=\"411.52843750000005\" x2=\"501.52843750000005\" y1=\"435.0\" y2=\"435.0\" stroke=\"black\" stroke-width=\"1\" /><line x1=\"233.53708984375004\" x2=\"233.53708984375004\" y1=\"95.0\" y2=\"145.0\" stroke=\"black\" stroke-width=\"3\" /><line x1=\"233.53708984375004\" x2=\"233.53708984375004\" y1=\"295.0\" y2=\"345.0\" stroke=\"black\" stroke-width=\"3\" /><line x1=\"321.52843750000005\" x2=\"321.52843750000005\" y1=\"45.0\" y2=\"95.0\" stroke=\"black\" stroke-width=\"3\" /><line x1=\"321.52843750000005\" x2=\"321.52843750000005\" y1=\"245.0\" y2=\"295.0\" stroke=\"black\" stroke-width=\"3\" /><line x1=\"381.52843750000005\" x2=\"381.52843750000005\" y1=\"145.0\" y2=\"195.0\" stroke=\"black\" stroke-width=\"3\" /><line x1=\"381.52843750000005\" x2=\"381.52843750000005\" y1=\"345.0\" y2=\"395.0\" stroke=\"black\" stroke-width=\"3\" /><line x1=\"431.52843750000005\" x2=\"431.52843750000005\" y1=\"45.0\" y2=\"195.0\" stroke=\"black\" stroke-width=\"3\" /><line x1=\"471.52843750000005\" x2=\"471.52843750000005\" y1=\"95.0\" y2=\"145.0\" stroke=\"black\" stroke-width=\"3\" /><line x1=\"431.52843750000005\" x2=\"431.52843750000005\" y1=\"245.0\" y2=\"395.0\" stroke=\"black\" stroke-width=\"3\" /><line x1=\"471.52843750000005\" x2=\"471.52843750000005\" y1=\"295.0\" y2=\"345.0\" stroke=\"black\" stroke-width=\"3\" /><line x1=\"555.6272656250001\" x2=\"555.6272656250001\" y1=\"45.0\" y2=\"245.0\" stroke=\"black\" stroke-width=\"3\" /><line x1=\"643.824921875\" x2=\"643.824921875\" y1=\"95.0\" y2=\"295.0\" stroke=\"black\" stroke-width=\"3\" /><line x1=\"732.022578125\" x2=\"732.022578125\" y1=\"145.0\" y2=\"345.0\" stroke=\"black\" stroke-width=\"3\" /><line x1=\"820.220234375\" x2=\"820.220234375\" y1=\"195.0\" y2=\"395.0\" stroke=\"black\" stroke-width=\"3\" /><line x1=\"511.52843750000005\" x2=\"511.52843750000005\" y1=\"5.0\" y2=\"15.0\" stroke=\"black\" stroke-width=\"3\" /><line x1=\"874.3190625000001\" x2=\"874.3190625000001\" y1=\"5.0\" y2=\"15.0\" stroke=\"black\" stroke-width=\"3\" /><line x1=\"511.52843750000005\" x2=\"511.52843750000005\" y1=\"425.0\" y2=\"435.0\" stroke=\"black\" stroke-width=\"3\" /><line x1=\"874.3190625000001\" x2=\"874.3190625000001\" y1=\"425.0\" y2=\"435.0\" stroke=\"black\" stroke-width=\"3\" /><line x1=\"411.52843750000005\" x2=\"411.52843750000005\" y1=\"5.0\" y2=\"15.0\" stroke=\"black\" stroke-width=\"3\" /><line x1=\"501.52843750000005\" x2=\"501.52843750000005\" y1=\"5.0\" y2=\"15.0\" stroke=\"black\" stroke-width=\"3\" /><line x1=\"411.52843750000005\" x2=\"411.52843750000005\" y1=\"425.0\" y2=\"435.0\" stroke=\"black\" stroke-width=\"3\" /><line x1=\"501.52843750000005\" x2=\"501.52843750000005\" y1=\"425.0\" y2=\"435.0\" stroke=\"black\" stroke-width=\"3\" /><rect x=\"10.0\" y=\"25.0\" width=\"40\" height=\"40\" stroke=\"black\" fill=\"white\" stroke-width=\"0\" /><text x=\"30.0\" y=\"45.0\" dominant-baseline=\"middle\" text-anchor=\"middle\" font-size=\"14px\" font-family=\"Arial\">0: </text><rect x=\"10.0\" y=\"75.0\" width=\"40\" height=\"40\" stroke=\"black\" fill=\"white\" stroke-width=\"0\" /><text x=\"30.0\" y=\"95.0\" dominant-baseline=\"middle\" text-anchor=\"middle\" font-size=\"14px\" font-family=\"Arial\">1: </text><rect x=\"10.0\" y=\"125.0\" width=\"40\" height=\"40\" stroke=\"black\" fill=\"white\" stroke-width=\"0\" /><text x=\"30.0\" y=\"145.0\" dominant-baseline=\"middle\" text-anchor=\"middle\" font-size=\"14px\" font-family=\"Arial\">2: </text><rect x=\"10.0\" y=\"175.0\" width=\"40\" height=\"40\" stroke=\"black\" fill=\"white\" stroke-width=\"0\" /><text x=\"30.0\" y=\"195.0\" dominant-baseline=\"middle\" text-anchor=\"middle\" font-size=\"14px\" font-family=\"Arial\">3: </text><rect x=\"10.0\" y=\"225.0\" width=\"40\" height=\"40\" stroke=\"black\" fill=\"white\" stroke-width=\"0\" /><text x=\"30.0\" y=\"245.0\" dominant-baseline=\"middle\" text-anchor=\"middle\" font-size=\"14px\" font-family=\"Arial\">4: </text><rect x=\"10.0\" y=\"275.0\" width=\"40\" height=\"40\" stroke=\"black\" fill=\"white\" stroke-width=\"0\" /><text x=\"30.0\" y=\"295.0\" dominant-baseline=\"middle\" text-anchor=\"middle\" font-size=\"14px\" font-family=\"Arial\">5: </text><rect x=\"10.0\" y=\"325.0\" width=\"40\" height=\"40\" stroke=\"black\" fill=\"white\" stroke-width=\"0\" /><text x=\"30.0\" y=\"345.0\" dominant-baseline=\"middle\" text-anchor=\"middle\" font-size=\"14px\" font-family=\"Arial\">6: </text><rect x=\"10.0\" y=\"375.0\" width=\"40\" height=\"40\" stroke=\"black\" fill=\"white\" stroke-width=\"0\" /><text x=\"30.0\" y=\"395.0\" dominant-baseline=\"middle\" text-anchor=\"middle\" font-size=\"14px\" font-family=\"Arial\">7: </text><rect x=\"70.0\" y=\"25.0\" width=\"95.54574218750001\" height=\"40\" stroke=\"black\" fill=\"white\" stroke-width=\"1\" /><text x=\"117.77287109375001\" y=\"45.0\" dominant-baseline=\"middle\" text-anchor=\"middle\" font-size=\"18px\" font-family=\"Arial\">H</text><rect x=\"70.0\" y=\"75.0\" width=\"95.54574218750001\" height=\"40\" stroke=\"black\" fill=\"white\" stroke-width=\"1\" /><text x=\"117.77287109375001\" y=\"95.0\" dominant-baseline=\"middle\" text-anchor=\"middle\" font-size=\"14px\" font-family=\"Arial\">U(0.00,0.00)</text><rect x=\"70.0\" y=\"225.0\" width=\"95.54574218750001\" height=\"40\" stroke=\"black\" fill=\"white\" stroke-width=\"1\" /><text x=\"117.77287109375001\" y=\"245.0\" dominant-baseline=\"middle\" text-anchor=\"middle\" font-size=\"18px\" font-family=\"Arial\">H</text><rect x=\"70.0\" y=\"275.0\" width=\"95.54574218750001\" height=\"40\" stroke=\"black\" fill=\"white\" stroke-width=\"1\" /><text x=\"117.77287109375001\" y=\"295.0\" dominant-baseline=\"middle\" text-anchor=\"middle\" font-size=\"14px\" font-family=\"Arial\">U(0.00,0.00)</text><rect x=\"185.54574218750003\" y=\"75.0\" width=\"95.98269531250001\" height=\"40\" stroke=\"black\" fill=\"white\" stroke-width=\"1\" /><text x=\"233.53708984375004\" y=\"95.0\" dominant-baseline=\"middle\" text-anchor=\"middle\" font-size=\"14px\" font-family=\"Arial\">CV</text><rect x=\"185.54574218750003\" y=\"125.0\" width=\"95.98269531250001\" height=\"40\" stroke=\"black\" fill=\"white\" stroke-width=\"1\" /><text x=\"233.53708984375004\" y=\"145.0\" dominant-baseline=\"middle\" text-anchor=\"middle\" font-size=\"14px\" font-family=\"Arial\">V(0.00,0.00)</text><rect x=\"185.54574218750003\" y=\"275.0\" width=\"95.98269531250001\" height=\"40\" stroke=\"black\" fill=\"white\" stroke-width=\"1\" /><text x=\"233.53708984375004\" y=\"295.0\" dominant-baseline=\"middle\" text-anchor=\"middle\" font-size=\"14px\" font-family=\"Arial\">CV</text><rect x=\"185.54574218750003\" y=\"325.0\" width=\"95.98269531250001\" height=\"40\" stroke=\"black\" fill=\"white\" stroke-width=\"1\" /><text x=\"233.53708984375004\" y=\"345.0\" dominant-baseline=\"middle\" text-anchor=\"middle\" font-size=\"14px\" font-family=\"Arial\">V(0.00,0.00)</text><rect x=\"301.52843750000005\" y=\"125.0\" width=\"40\" height=\"40\" stroke=\"black\" fill=\"white\" stroke-width=\"1\" /><text x=\"321.52843750000005\" y=\"145.0\" dominant-baseline=\"middle\" text-anchor=\"middle\" font-size=\"18px\" font-family=\"Arial\">X</text><circle cx=\"321.52843750000005\" cy=\"45.0\" r=\"10.0\" /><rect x=\"301.52843750000005\" y=\"75.0\" width=\"40\" height=\"40\" stroke=\"black\" fill=\"white\" stroke-width=\"1\" /><text x=\"321.52843750000005\" y=\"95.0\" dominant-baseline=\"middle\" text-anchor=\"middle\" font-size=\"18px\" font-family=\"Arial\">X</text><rect x=\"301.52843750000005\" y=\"325.0\" width=\"40\" height=\"40\" stroke=\"black\" fill=\"white\" stroke-width=\"1\" /><text x=\"321.52843750000005\" y=\"345.0\" dominant-baseline=\"middle\" text-anchor=\"middle\" font-size=\"18px\" font-family=\"Arial\">X</text><circle cx=\"321.52843750000005\" cy=\"245.0\" r=\"10.0\" /><rect x=\"301.52843750000005\" y=\"275.0\" width=\"40\" height=\"40\" stroke=\"black\" fill=\"white\" stroke-width=\"1\" /><text x=\"321.52843750000005\" y=\"295.0\" dominant-baseline=\"middle\" text-anchor=\"middle\" font-size=\"18px\" font-family=\"Arial\">X</text><circle cx=\"381.52843750000005\" cy=\"145.0\" r=\"10.0\" /><rect x=\"361.52843750000005\" y=\"175.0\" width=\"40\" height=\"40\" stroke=\"black\" fill=\"white\" stroke-width=\"1\" /><text x=\"381.52843750000005\" y=\"195.0\" dominant-baseline=\"middle\" text-anchor=\"middle\" font-size=\"18px\" font-family=\"Arial\">X</text><circle cx=\"381.52843750000005\" cy=\"345.0\" r=\"10.0\" /><rect x=\"361.52843750000005\" y=\"375.0\" width=\"40\" height=\"40\" stroke=\"black\" fill=\"white\" stroke-width=\"1\" /><text x=\"381.52843750000005\" y=\"395.0\" dominant-baseline=\"middle\" text-anchor=\"middle\" font-size=\"18px\" font-family=\"Arial\">X</text><circle cx=\"431.52843750000005\" cy=\"45.0\" r=\"10.0\" /><rect x=\"411.52843750000005\" y=\"175.0\" width=\"40\" height=\"40\" stroke=\"black\" fill=\"white\" stroke-width=\"1\" /><text x=\"431.52843750000005\" y=\"195.0\" dominant-baseline=\"middle\" text-anchor=\"middle\" font-size=\"18px\" font-family=\"Arial\">X</text><circle cx=\"471.52843750000005\" cy=\"95.0\" r=\"10.0\" /><rect x=\"451.52843750000005\" y=\"125.0\" width=\"40\" height=\"40\" stroke=\"black\" fill=\"white\" stroke-width=\"1\" /><text x=\"471.52843750000005\" y=\"145.0\" dominant-baseline=\"middle\" text-anchor=\"middle\" font-size=\"18px\" font-family=\"Arial\">X</text><circle cx=\"431.52843750000005\" cy=\"245.0\" r=\"10.0\" /><rect x=\"411.52843750000005\" y=\"375.0\" width=\"40\" height=\"40\" stroke=\"black\" fill=\"white\" stroke-width=\"1\" /><text x=\"431.52843750000005\" y=\"395.0\" dominant-baseline=\"middle\" text-anchor=\"middle\" font-size=\"18px\" font-family=\"Arial\">X</text><circle cx=\"471.52843750000005\" cy=\"295.0\" r=\"10.0\" /><rect x=\"451.52843750000005\" y=\"325.0\" width=\"40\" height=\"40\" stroke=\"black\" fill=\"white\" stroke-width=\"1\" /><text x=\"471.52843750000005\" y=\"345.0\" dominant-baseline=\"middle\" text-anchor=\"middle\" font-size=\"18px\" font-family=\"Arial\">X</text><rect x=\"511.52843750000005\" y=\"25.0\" width=\"88.19765625000001\" height=\"40\" stroke=\"black\" fill=\"white\" stroke-width=\"1\" /><text x=\"555.6272656250001\" y=\"45.0\" dominant-baseline=\"middle\" text-anchor=\"middle\" font-size=\"14px\" font-family=\"Arial\">iSwap</text><rect x=\"511.52843750000005\" y=\"225.0\" width=\"88.19765625000001\" height=\"40\" stroke=\"black\" fill=\"white\" stroke-width=\"1\" /><text x=\"555.6272656250001\" y=\"245.0\" dominant-baseline=\"middle\" text-anchor=\"middle\" font-size=\"14px\" font-family=\"Arial\">iSwap^-0.5</text><rect x=\"599.72609375\" y=\"75.0\" width=\"88.19765625000001\" height=\"40\" stroke=\"black\" fill=\"white\" stroke-width=\"1\" /><text x=\"643.824921875\" y=\"95.0\" dominant-baseline=\"middle\" text-anchor=\"middle\" font-size=\"14px\" font-family=\"Arial\">iSwap</text><rect x=\"599.72609375\" y=\"275.0\" width=\"88.19765625000001\" height=\"40\" stroke=\"black\" fill=\"white\" stroke-width=\"1\" /><text x=\"643.824921875\" y=\"295.0\" dominant-baseline=\"middle\" text-anchor=\"middle\" font-size=\"14px\" font-family=\"Arial\">iSwap^-0.5</text><rect x=\"687.92375\" y=\"125.0\" width=\"88.19765625000001\" height=\"40\" stroke=\"black\" fill=\"white\" stroke-width=\"1\" /><text x=\"732.022578125\" y=\"145.0\" dominant-baseline=\"middle\" text-anchor=\"middle\" font-size=\"14px\" font-family=\"Arial\">iSwap</text><rect x=\"687.92375\" y=\"325.0\" width=\"88.19765625000001\" height=\"40\" stroke=\"black\" fill=\"white\" stroke-width=\"1\" /><text x=\"732.022578125\" y=\"345.0\" dominant-baseline=\"middle\" text-anchor=\"middle\" font-size=\"14px\" font-family=\"Arial\">iSwap^-0.5</text><rect x=\"776.1214062500001\" y=\"175.0\" width=\"88.19765625000001\" height=\"40\" stroke=\"black\" fill=\"white\" stroke-width=\"1\" /><text x=\"820.220234375\" y=\"195.0\" dominant-baseline=\"middle\" text-anchor=\"middle\" font-size=\"14px\" font-family=\"Arial\">iSwap</text><rect x=\"776.1214062500001\" y=\"375.0\" width=\"88.19765625000001\" height=\"40\" stroke=\"black\" fill=\"white\" stroke-width=\"1\" /><text x=\"820.220234375\" y=\"395.0\" dominant-baseline=\"middle\" text-anchor=\"middle\" font-size=\"14px\" font-family=\"Arial\">iSwap^-0.5</text></svg>"
      ],
      "text/plain": [
       "<cirq.contrib.svg.svg.SVGCircuit at 0x7f3ba6720c70>"
      ]
     },
     "execution_count": 217,
     "metadata": {},
     "output_type": "execute_result"
    }
   ],
   "source": [
    "Q = cirq.LineQubit.range(8)\n",
    "c = cirq.Circuit(tc.ZeroTet(Q[:4]),tc.ZeroTet(Q[4:]))\n",
    "c.append([sqrtISWAP(Q[0],Q[4]),sqrtISWAP(Q[1],Q[5]),sqrtISWAP(Q[2],Q[6]),sqrtISWAP(Q[3],Q[7])])\n",
    "c.append([])\n",
    "print(tn.overlap(end_vec(c).final_state_vector, np.kron(tn.L_one,tn.L_one)))\n",
    "SVGCircuit(c)"
   ]
  },
  {
   "cell_type": "code",
   "execution_count": null,
   "metadata": {},
   "outputs": [],
   "source": []
  }
 ],
 "metadata": {
  "kernelspec": {
   "display_name": "Python 3",
   "language": "python",
   "name": "python3"
  },
  "language_info": {
   "codemirror_mode": {
    "name": "ipython",
    "version": 3
   },
   "file_extension": ".py",
   "mimetype": "text/x-python",
   "name": "python",
   "nbconvert_exporter": "python",
   "pygments_lexer": "ipython3",
   "version": "3.8.6"
  },
  "toc": {
   "base_numbering": 1,
   "nav_menu": {},
   "number_sections": true,
   "sideBar": true,
   "skip_h1_title": false,
   "title_cell": "Table of Contents",
   "title_sidebar": "Contents",
   "toc_cell": false,
   "toc_position": {},
   "toc_section_display": true,
   "toc_window_display": false
  }
 },
 "nbformat": 4,
 "nbformat_minor": 4
}
