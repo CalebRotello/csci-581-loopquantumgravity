{
 "cells": [
  {
   "cell_type": "markdown",
   "metadata": {},
   "source": [
    "# Experiment 2 results\n",
    "This is the processing and analysis of the second experiment, submitted May 01, 2021\n",
    "\n",
    "Flip end qubits that have a Hadammard gate; this reverses the 'post selecting' bias we applied. When looking at the `entangle_tets` function, this is first qubit in an entangled pair."
   ]
  },
  {
   "cell_type": "code",
   "execution_count": 2,
   "metadata": {},
   "outputs": [],
   "source": [
    "import cirq\n",
    "\n",
    "import numpy as np\n",
    "import os\n",
    "import json\n",
    "import matplotlib.pyplot as plt\n",
    "from cirq.contrib.svg import SVGCircuit\n",
    "import fnmatch\n",
    "os.chdir('LQG')\n",
    "import LQG.numerical as tn\n",
    "import LQG.circuits as tc\n",
    "import LQG.postprocess as post\n",
    "import LQG.experiments as ex\n",
    "import imp\n",
    "imp.reload(tn)\n",
    "imp.reload(tc)\n",
    "imp.reload(post)\n",
    "os.chdir('..')\n",
    "DATA_DIR = os.getcwd() + '/data/sub2/' \n",
    "TEST_DIR = os.getcwd() + '/HA_CR_AMPLITUDE_LQG_sub2/'\n",
    "\n",
    "qb = lambda a,b: cirq.GridQubit(a,b)\n",
    "\n",
    "def pprint(ls):\n",
    "    ''' pretty print lists '''\n",
    "    for l in ls:\n",
    "        print(l)"
   ]
  },
  {
   "cell_type": "markdown",
   "metadata": {},
   "source": [
    "## Monopole"
   ]
  },
  {
   "cell_type": "markdown",
   "metadata": {},
   "source": [
    "### Zero Spin"
   ]
  },
  {
   "cell_type": "code",
   "execution_count": 3,
   "metadata": {},
   "outputs": [
    {
     "name": "stdout",
     "output_type": "stream",
     "text": [
      "0.18406593406593408\n",
      "0.208\n",
      "0.2134670487106017\n",
      "0.20719424460431654\n",
      "0.2051792828685259\n",
      "0.22708039492242596\n",
      "0.22988505747126436\n",
      "0.18181818181818182\n",
      "0.23407202216066483\n",
      "0.19547872340425532\n",
      "0.18497109826589594\n",
      "0.19692737430167598\n",
      "0.23224043715846995\n",
      "0.23446893787575152\n",
      "0.19302949061662197\n",
      "\n",
      "amplitude: \t 0.2085252152163057\n",
      "%error: \t 0.16589913913477716\n"
     ]
    }
   ],
   "source": [
    "zero_mono_results, zero_mono_names = post.load(DATA_DIR + 'zero_monopole.json')\n",
    "#zero_mono_results, zero_mono_names = post.load(TEST_DIR + 'zero_monopole.json')\n",
    "\n",
    "\n",
    "qubs = [[0,5],[0,6],[1,6],[1,5],\n",
    "        [4,4],[4,5],[5,5],[5,4],\n",
    "        [2,7],[2,8],[3,8],[3,7]\n",
    "       ]\n",
    "#sortedqubs = sorted(qubs,key=lambda x: (x[0],x[1]))\n",
    "qmap = ex.qubit_map(qubs)#{i: qubs.index(elem) for i,elem in enumerate(sortedqubs)}\n",
    "\n",
    "amps = post.process_results(\n",
    "        zero_mono_results,\n",
    "        qmap,\n",
    "        4,\n",
    "        [0,1,4,5,8,9],\n",
    "        n_split=3,\n",
    "        keepfn=post.keepfn_even\n",
    "       )\n",
    "\n",
    "pprint(amps)\n",
    "res = np.mean(amps)\n",
    "print('\\namplitude: \\t',res)\n",
    "print('%error: \\t', (.25-res)*4)"
   ]
  },
  {
   "cell_type": "markdown",
   "metadata": {},
   "source": [
    "### One Spin"
   ]
  },
  {
   "cell_type": "code",
   "execution_count": 4,
   "metadata": {},
   "outputs": [
    {
     "name": "stdout",
     "output_type": "stream",
     "text": [
      "\n",
      "amplitude:\t 0.2539687916206975\n",
      "%error: \t 0.6613749445057366\n"
     ]
    }
   ],
   "source": [
    "one_mono_results, _ = post.load(DATA_DIR + 'one_monopole.json')\n",
    "#one_mono_results, _ = post.load(TEST_DIR + 'one_monopole.json')\n",
    "\n",
    "qubs = [[0,5],[0,6],[1,6],[1,5],\n",
    "        [4,4],[4,5],[5,5],[5,4],\n",
    "        [2,7],[2,8],[3,8],[3,7]\n",
    "       ]\n",
    "#sortedqubs = sorted(qubs,key=lambda x: (x[0],x[1]))\n",
    "#qmap = {i: qubs.index(elem) for i,elem in enumerate(sortedqubs)}\n",
    "qmap = ex.qubit_map(qubs)\n",
    "\n",
    "amps = post.process_results(\n",
    "    one_mono_results,\n",
    "    qmap,\n",
    "    4,\n",
    "    [0,1,4,5,8,9],\n",
    "    n_split=3,\n",
    "    keepfn=post.keepfn_even\n",
    "   )\n",
    "#amps = amps[::3] + amps[2::3]\n",
    "\n",
    "res = np.mean(amps)    \n",
    "print('\\namplitude:\\t', res)\n",
    "print('%error: \\t', (.75-res)*4/3)"
   ]
  },
  {
   "cell_type": "markdown",
   "metadata": {},
   "source": [
    "## Dipole Network "
   ]
  },
  {
   "cell_type": "markdown",
   "metadata": {},
   "source": [
    "### 04152637 Zero Spin"
   ]
  },
  {
   "cell_type": "code",
   "execution_count": 5,
   "metadata": {},
   "outputs": [
    {
     "name": "stdout",
     "output_type": "stream",
     "text": [
      "amplitude:\t 0.06742198964186771\n",
      "expected:\t 0.0625\n",
      "%error: \t -0.07875183426988341\n"
     ]
    }
   ],
   "source": [
    "zero_dipole_results, _ = post.load(DATA_DIR + 'zero_dipole_04152637.json')\n",
    "\n",
    "qubs = [[2,7],[2,8],[0,5],[0,6],\n",
    "        [3,7],[3,8],[1,5],[1,6],\n",
    "        [2,4],[2,5],[4,4],[4,5],\n",
    "        [3,4],[3,5],[5,4],[5,5],\n",
    "        [6,4],[6,5],[4,7],[4,8],\n",
    "        [7,4],[7,5],[5,7],[5,8],\n",
    "]\n",
    "#sortedqubs = sorted(qubs,key=lambda x: (x[0],x[1]))\n",
    "#qmap = {i: qubs.index(elem) for i,elem in enumerate(sortedqubs)}\n",
    "qmap = ex.qubit_map(qubs)\n",
    "\n",
    "amps = post.process_results(\n",
    "    zero_dipole_results,\n",
    "    qmap,\n",
    "    8,\n",
    "    [0,1,2,3,8,9,10,11,16,17,18,19],\n",
    "    n_split=3,\n",
    "    keepfn=post.keepfn_even_tets\n",
    "   )\n",
    "amps = amps[1::3] + amps[::3]\n",
    "res = np.mean(amps)\n",
    "\n",
    "print('amplitude:\\t',res)\n",
    "print('expected:\\t',1/16)\n",
    "print('%error: \\t',(1/16-res)*16)"
   ]
  },
  {
   "cell_type": "markdown",
   "metadata": {},
   "source": [
    "### 04172536 Zero Spin"
   ]
  },
  {
   "cell_type": "code",
   "execution_count": 6,
   "metadata": {},
   "outputs": [
    {
     "name": "stdout",
     "output_type": "stream",
     "text": [
      "amplitdue:\t 0.01533203125\n",
      "expected:\t 0.015625\n",
      "%error: \t 0.018750000000000044\n"
     ]
    }
   ],
   "source": [
    "zero_dipole_results, _ = post.load(DATA_DIR + 'zero_dipole_04172536.json')\n",
    "zero_dipole_results, _ = post.load(TEST_DIR + 'zero_dipole_04172536.json')\n",
    "\n",
    "qubs = [[3,5],[3,6],[5,6],[5,7],\n",
    "        [4,5],[5,5],[4,7],[4,6],\n",
    "        [0,5],[0,6],[2,6],[2,7],\n",
    "        [1,5],[2,5],[1,7],[1,6],\n",
    "        [7,5],[8,5],[7,3],[6,3],\n",
    "        [7,4],[8,3],[6,4],[8,4],\n",
    "]\n",
    "#sortedqubs = sorted(qubs,key=lambda x: (x[0],x[1]))\n",
    "#qmap = {i: qubs.index(elem) for i,elem in enumerate(sortedqubs)}\n",
    "qmap = ex.qubit_map(qubs)\n",
    "\n",
    "amps = post.process_results(\n",
    "    zero_dipole_results,\n",
    "    qmap,\n",
    "    8,\n",
    "    [0,1,2,3,8,9,10,11,16,17,18,19],\n",
    "    n_split=3,\n",
    "    keepfn=post.keepfn_even\n",
    "   )\n",
    "\n",
    "amps = amps[1::3]\n",
    "res = np.mean(amps)\n",
    "print('amplitdue:\\t',res)\n",
    "print('expected:\\t',1/64)\n",
    "print('%error: \\t',(1/64-res)*64)"
   ]
  },
  {
   "cell_type": "markdown",
   "metadata": {},
   "source": [
    "## 4-simplex"
   ]
  },
  {
   "cell_type": "markdown",
   "metadata": {},
   "source": [
    "### 1 ring"
   ]
  },
  {
   "cell_type": "code",
   "execution_count": 20,
   "metadata": {},
   "outputs": [
    {
     "name": "stdout",
     "output_type": "stream",
     "text": [
      "amplitude:\t 4.8828125e-07\n",
      "expected:\t 3.814697265625e-06\n",
      "%error: \t 0.872\n"
     ]
    }
   ],
   "source": [
    "zero_4simplex_results, _ = post.load(DATA_DIR + 'zero_4simplex_1rings.json')\n",
    "\n",
    "qubs = [[3,5],[4,5],[0,6],[0,5],\n",
    "        [1,5],[1,4],[2,8],[2,7],\n",
    "        [1,7],[1,6],[4,8],[4,9],\n",
    "        [3,9],[3,8],[4,6],[3,6],\n",
    "        [3,7],[4,7],[2,4],[3,4],\n",
    "        [5,4],[4,4],[7,6],[6,6],\n",
    "        [6,7],[5,7],[8,3],[8,4],\n",
    "        [8,5],[7,5],[5,2],[6,2],\n",
    "        [6,3],[7,3],[4,3],[3,3],\n",
    "        [3,2],[4,2],[5,6],[5,5]]\n",
    "\n",
    "qmap = ex.qubit_map(qubs)\n",
    "\n",
    "amps = post.process_results(\n",
    "        zero_4simplex_results,\n",
    "        qmap,\n",
    "        20,\n",
    "        [19,18,14,6,2,10,3,7,11,15,39,38,34,26,22,30,23,27,31,35],\n",
    "        n_split=2\n",
    "       )\n",
    "\n",
    "res = np.mean(amps)\n",
    "print('amplitude:\\t',res)\n",
    "print('expected:\\t',2**-18)\n",
    "print('%error: \\t',(2**-18-res)*2**18)"
   ]
  },
  {
   "cell_type": "markdown",
   "metadata": {},
   "source": [
    "### 2 rings"
   ]
  },
  {
   "cell_type": "code",
   "execution_count": 10,
   "metadata": {},
   "outputs": [
    {
     "name": "stdout",
     "output_type": "stream",
     "text": [
      "amplitude:\t 0.0\n",
      "%error: \t 1.0\n"
     ]
    }
   ],
   "source": [
    "#zero_4simplex_results, _ = post.load(DATA_DIR + 'zero_4simplex_2rings_1.json')\n",
    "zero_4simplex_results, _ = post.load(TEST_DIR + 'zero_4simplex_2rings_1.json')\n",
    "\n",
    "qubs = [\n",
    "    [1,7],[2,7],[4,7],[5,7],\n",
    "    [3,7],[3,6],[6,7],[6,6],\n",
    "    [3,5],[3,4],[6,5],[6,4],\n",
    "    [2,4],[2,5],[5,4],[5,5],\n",
    "    [1,5],[1,6],[4,5],[4,6]\n",
    "]\n",
    "qmap = ex.qubit_map(qubs)\n",
    "\n",
    "amps = post.process_results(\n",
    "        zero_4simplex_results,\n",
    "        qmap,\n",
    "        20,\n",
    "        [1,5,9,13,17,3,7,11,15,19],\n",
    "       )\n",
    "\n",
    "res = np.mean(amps)        \n",
    "print('amplitude:\\t',res)\n",
    "print('%error: \\t',(2**-16-res)*2**16)"
   ]
  },
  {
   "cell_type": "code",
   "execution_count": 11,
   "metadata": {},
   "outputs": [
    {
     "name": "stdout",
     "output_type": "stream",
     "text": [
      "amplitude:\t 1.46484375e-05\n",
      "%error: \t 0.040000000000000036\n"
     ]
    }
   ],
   "source": [
    "zero_4simplex_results, _ = post.load(DATA_DIR + 'zero_4simplex_2rings_2.json')\n",
    "zero_4simplex_results, _ = post.load(TEST_DIR + 'zero_4simplex_2rings_2.json')\n",
    "\n",
    "qubs = [\n",
    "    [5,3],[5,4],[5,6],[5,7],\n",
    "    [5,5],[4,5],[5,8],[4,8],\n",
    "    [3,5],[2,5],[3,8],[2,8],\n",
    "    [2,4],[3,4],[2,7],[3,7],\n",
    "    [3,3],[4,3],[3,6],[4,6]\n",
    "]\n",
    "qmap = ex.qubit_map(qubs)\n",
    "\n",
    "amps = post.process_results(\n",
    "        zero_4simplex_results,\n",
    "        qmap,\n",
    "        20,\n",
    "        [1,5,9,13,17,3,7,11,15,19]\n",
    "       )\n",
    "\n",
    "res = np.mean(amps)        \n",
    "print('amplitude:\\t', res)\n",
    "print('%error: \\t',(2**-16-res)*2**16)"
   ]
  },
  {
   "cell_type": "markdown",
   "metadata": {},
   "source": [
    "### 3 rings"
   ]
  },
  {
   "cell_type": "code",
   "execution_count": 12,
   "metadata": {},
   "outputs": [
    {
     "name": "stdout",
     "output_type": "stream",
     "text": [
      "amplitude:\t 0.0\n",
      "%error: \t 1.0\n"
     ]
    }
   ],
   "source": [
    "zero_4simplex_results, _ = post.load(DATA_DIR + 'zero_4simplex_3rings_1.json')\n",
    "\n",
    "qubs = [\n",
    "    [1,7],[2,7],[2,5],[3,5],\n",
    "    [3,4],[2,4],[5,4],[5,5],\n",
    "    [1,4],[1,5],[5,6],[5,7],\n",
    "    [3,7],[3,6],[4,7],[4,6],\n",
    "    [2,6],[1,6],[4,5],[4,4]\n",
    "]\n",
    "qmap = ex.qubit_map(qubs)\n",
    "    \n",
    "amps = post.process_results(\n",
    "        zero_4simplex_results,\n",
    "        qmap,\n",
    "        20,\n",
    "        [13,17,12,3,5,2,7,11,15,19]\n",
    "       )\n",
    "\n",
    "res = np.mean(amps)        \n",
    "print('amplitude:\\t',res)\n",
    "print('%error: \\t',(2**-14-res)*2**14)"
   ]
  },
  {
   "cell_type": "code",
   "execution_count": 13,
   "metadata": {},
   "outputs": [
    {
     "name": "stdout",
     "output_type": "stream",
     "text": [
      "amplitude:\t 1.220703125e-06\n",
      "%error: \t 0.98\n"
     ]
    }
   ],
   "source": [
    "zero_4simplex_results, _ = post.load(DATA_DIR + 'zero_4simplex_3rings_2.json')\n",
    "\n",
    "qubs = [\n",
    "    [5,4],[5,5],[3,5],[3,6],\n",
    "    [2,6],[2,5],[2,8],[3,8],\n",
    "    [2,4],[3,4],[4,8],[5,8],\n",
    "    [5,6],[4,6],[5,7],[4,7],\n",
    "    [4,5],[4,4],[3,7],[2,7]\n",
    "]\n",
    "qmap = ex.qubit_map(qubs)\n",
    "\n",
    "amps = post.process_results(\n",
    "        zero_4simplex_results,\n",
    "        qmap,\n",
    "        20,\n",
    "        [13,17,12,3,5,2,7,11,15,19]\n",
    "       )\n",
    "\n",
    "res = np.mean(amps)        \n",
    "print('amplitude:\\t',res)\n",
    "print('%error: \\t',(2**-14-res)*2**14)"
   ]
  },
  {
   "cell_type": "code",
   "execution_count": 14,
   "metadata": {},
   "outputs": [
    {
     "data": {
      "text/plain": [
       "-0.05840000000000001"
      ]
     },
     "execution_count": 14,
     "metadata": {},
     "output_type": "execute_result"
    }
   ],
   "source": [
    "(.2354-.25)*4"
   ]
  },
  {
   "cell_type": "code",
   "execution_count": null,
   "metadata": {},
   "outputs": [],
   "source": []
  }
 ],
 "metadata": {
  "kernelspec": {
   "display_name": "Python 3",
   "language": "python",
   "name": "python3"
  },
  "language_info": {
   "codemirror_mode": {
    "name": "ipython",
    "version": 3
   },
   "file_extension": ".py",
   "mimetype": "text/x-python",
   "name": "python",
   "nbconvert_exporter": "python",
   "pygments_lexer": "ipython3",
   "version": "3.9.5"
  },
  "latex_envs": {
   "LaTeX_envs_menu_present": true,
   "autoclose": false,
   "autocomplete": true,
   "bibliofile": "biblio.bib",
   "cite_by": "apalike",
   "current_citInitial": 1,
   "eqLabelWithNumbers": true,
   "eqNumInitial": 1,
   "hotkeys": {
    "equation": "Ctrl-E",
    "itemize": "Ctrl-I"
   },
   "labels_anchors": false,
   "latex_user_defs": false,
   "report_style_numbering": false,
   "user_envs_cfg": false
  },
  "toc": {
   "base_numbering": 1,
   "nav_menu": {},
   "number_sections": true,
   "sideBar": true,
   "skip_h1_title": false,
   "title_cell": "Table of Contents",
   "title_sidebar": "Contents",
   "toc_cell": false,
   "toc_position": {},
   "toc_section_display": true,
   "toc_window_display": false
  }
 },
 "nbformat": 4,
 "nbformat_minor": 4
}
