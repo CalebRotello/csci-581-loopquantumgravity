{
 "cells": [
  {
   "cell_type": "code",
   "execution_count": 831,
   "metadata": {},
   "outputs": [
    {
     "data": {
      "text/plain": [
       "<module 'LQG.tests' from '/home/espresso/SynologyDrive/edu-resources/quantum-programming/csci-581-lqg/LQG/tests.py'>"
      ]
     },
     "execution_count": 831,
     "metadata": {},
     "output_type": "execute_result"
    }
   ],
   "source": [
    "import cirq\n",
    "import numpy as np\n",
    "from cirq.contrib.svg import SVGCircuit\n",
    "import imp\n",
    "import LQG\n",
    "from LQG import tetrahedra_circuits as tc\n",
    "from LQG import tetrahedra_num as tn\n",
    "from LQG import tests\n",
    "imp.reload(LQG.tetrahedra_circuits)\n",
    "imp.reload(LQG.tetrahedra_num)\n",
    "imp.reload(LQG.tests)"
   ]
  },
  {
   "cell_type": "code",
   "execution_count": 832,
   "metadata": {},
   "outputs": [
    {
     "name": "stdout",
     "output_type": "stream",
     "text": [
      "Testing theta,phi 0.0000, 0.0000 -> overlap 1.0000, passed!\n",
      "Testing theta,phi 0.0000, 1.0472 -> overlap 1.0000, passed!\n",
      "Testing theta,phi 0.0000, 1.5708 -> overlap 1.0000, passed!\n",
      "Testing theta,phi 3.1416, 0.0000 -> overlap 1.0000, passed!\n",
      "Testing theta,phi 3.1416, 1.0472 -> overlap 1.0000, passed!\n",
      "Testing theta,phi 3.1416, 1.5708 -> overlap 1.0000, passed!\n",
      "Testing theta,phi 1.5708, 0.0000 -> overlap 1.0000, passed!\n",
      "Testing theta,phi 1.5708, 1.0472 -> overlap 0.2500, failed! :(\n",
      "Testing theta,phi 1.5708, 1.5708 -> overlap 0.0000, failed! :(\n",
      "Testing theta,phi 0.7854, 0.0000 -> overlap 1.0000, passed!\n",
      "Testing theta,phi 0.7854, 1.0472 -> overlap 0.6250, failed! :(\n",
      "Testing theta,phi 0.7854, 1.5708 -> overlap 0.5000, failed! :(\n",
      "passed!\n",
      "passed!\n"
     ]
    }
   ],
   "source": [
    "''' test the circuit generation for arbitrary theta,phi\n",
    "'''\n",
    "for theta in [0.,np.pi,np.pi/2,np.pi/4]:\n",
    "    for phi in [0.,np.pi/3,np.pi/2]:\n",
    "        tests.test_init_vec(theta,phi)\n",
    "''' test that the constant defined intertwiner states are correct\n",
    "'''\n",
    "tests.test_polarizations()  \n",
    "''' are the polarized tetrahedra correct \n",
    "'''\n",
    "tests.test_circuit_polarizations()"
   ]
  },
  {
   "cell_type": "code",
   "execution_count": 883,
   "metadata": {},
   "outputs": [
    {
     "name": "stdout",
     "output_type": "stream",
     "text": [
      "1100 248\n",
      "0011 259\n",
      "1111 231\n",
      "0000 262\n",
      "Expectation |0>:  0.262\n"
     ]
    },
    {
     "data": {
      "image/svg+xml": [
       "<svg xmlns=\"http://www.w3.org/2000/svg\" width=\"565.4722265625\" height=\"240.0\"><line x1=\"30.0\" x2=\"535.4722265625\" y1=\"45.0\" y2=\"45.0\" stroke=\"#1967d2\" stroke-width=\"1\" /><line x1=\"30.0\" x2=\"535.4722265625\" y1=\"95.0\" y2=\"95.0\" stroke=\"#1967d2\" stroke-width=\"1\" /><line x1=\"30.0\" x2=\"535.4722265625\" y1=\"145.0\" y2=\"145.0\" stroke=\"#1967d2\" stroke-width=\"1\" /><line x1=\"30.0\" x2=\"535.4722265625\" y1=\"195.0\" y2=\"195.0\" stroke=\"#1967d2\" stroke-width=\"1\" /><line x1=\"240.0\" x2=\"330.0\" y1=\"5.0\" y2=\"5.0\" stroke=\"black\" stroke-width=\"1\" /><line x1=\"240.0\" x2=\"330.0\" y1=\"235.0\" y2=\"235.0\" stroke=\"black\" stroke-width=\"1\" /><line x1=\"210.0\" x2=\"210.0\" y1=\"45.0\" y2=\"95.0\" stroke=\"black\" stroke-width=\"3\" /><line x1=\"210.0\" x2=\"210.0\" y1=\"145.0\" y2=\"195.0\" stroke=\"black\" stroke-width=\"3\" /><line x1=\"260.0\" x2=\"260.0\" y1=\"45.0\" y2=\"195.0\" stroke=\"black\" stroke-width=\"3\" /><line x1=\"300.0\" x2=\"300.0\" y1=\"95.0\" y2=\"145.0\" stroke=\"black\" stroke-width=\"3\" /><line x1=\"492.73611328125\" x2=\"492.73611328125\" y1=\"45.0\" y2=\"195.0\" stroke=\"black\" stroke-width=\"3\" /><line x1=\"240.0\" x2=\"240.0\" y1=\"5.0\" y2=\"15.0\" stroke=\"black\" stroke-width=\"3\" /><line x1=\"330.0\" x2=\"330.0\" y1=\"5.0\" y2=\"15.0\" stroke=\"black\" stroke-width=\"3\" /><line x1=\"240.0\" x2=\"240.0\" y1=\"225.0\" y2=\"235.0\" stroke=\"black\" stroke-width=\"3\" /><line x1=\"330.0\" x2=\"330.0\" y1=\"225.0\" y2=\"235.0\" stroke=\"black\" stroke-width=\"3\" /><rect x=\"10.0\" y=\"25.0\" width=\"40\" height=\"40\" stroke=\"black\" fill=\"white\" stroke-width=\"0\" /><text x=\"30.0\" y=\"45.0\" dominant-baseline=\"middle\" text-anchor=\"middle\" font-size=\"14px\" font-family=\"Arial\">0: </text><rect x=\"10.0\" y=\"75.0\" width=\"40\" height=\"40\" stroke=\"black\" fill=\"white\" stroke-width=\"0\" /><text x=\"30.0\" y=\"95.0\" dominant-baseline=\"middle\" text-anchor=\"middle\" font-size=\"14px\" font-family=\"Arial\">1: </text><rect x=\"10.0\" y=\"125.0\" width=\"40\" height=\"40\" stroke=\"black\" fill=\"white\" stroke-width=\"0\" /><text x=\"30.0\" y=\"145.0\" dominant-baseline=\"middle\" text-anchor=\"middle\" font-size=\"14px\" font-family=\"Arial\">2: </text><rect x=\"10.0\" y=\"175.0\" width=\"40\" height=\"40\" stroke=\"black\" fill=\"white\" stroke-width=\"0\" /><text x=\"30.0\" y=\"195.0\" dominant-baseline=\"middle\" text-anchor=\"middle\" font-size=\"14px\" font-family=\"Arial\">3: </text><rect x=\"70.0\" y=\"25.0\" width=\"40\" height=\"40\" stroke=\"black\" fill=\"white\" stroke-width=\"1\" /><text x=\"90.0\" y=\"45.0\" dominant-baseline=\"middle\" text-anchor=\"middle\" font-size=\"18px\" font-family=\"Arial\">X</text><rect x=\"70.0\" y=\"75.0\" width=\"40\" height=\"40\" stroke=\"black\" fill=\"white\" stroke-width=\"1\" /><text x=\"90.0\" y=\"95.0\" dominant-baseline=\"middle\" text-anchor=\"middle\" font-size=\"18px\" font-family=\"Arial\">X</text><rect x=\"70.0\" y=\"125.0\" width=\"40\" height=\"40\" stroke=\"black\" fill=\"white\" stroke-width=\"1\" /><text x=\"90.0\" y=\"145.0\" dominant-baseline=\"middle\" text-anchor=\"middle\" font-size=\"18px\" font-family=\"Arial\">X</text><rect x=\"70.0\" y=\"175.0\" width=\"40\" height=\"40\" stroke=\"black\" fill=\"white\" stroke-width=\"1\" /><text x=\"90.0\" y=\"195.0\" dominant-baseline=\"middle\" text-anchor=\"middle\" font-size=\"18px\" font-family=\"Arial\">X</text><rect x=\"130.0\" y=\"25.0\" width=\"40\" height=\"40\" stroke=\"black\" fill=\"white\" stroke-width=\"1\" /><text x=\"150.0\" y=\"45.0\" dominant-baseline=\"middle\" text-anchor=\"middle\" font-size=\"18px\" font-family=\"Arial\">H</text><rect x=\"130.0\" y=\"125.0\" width=\"40\" height=\"40\" stroke=\"black\" fill=\"white\" stroke-width=\"1\" /><text x=\"150.0\" y=\"145.0\" dominant-baseline=\"middle\" text-anchor=\"middle\" font-size=\"18px\" font-family=\"Arial\">H</text><circle cx=\"210.0\" cy=\"45.0\" r=\"10.0\" /><rect x=\"190.0\" y=\"75.0\" width=\"40\" height=\"40\" stroke=\"black\" fill=\"white\" stroke-width=\"1\" /><text x=\"210.0\" y=\"95.0\" dominant-baseline=\"middle\" text-anchor=\"middle\" font-size=\"18px\" font-family=\"Arial\">X</text><circle cx=\"210.0\" cy=\"145.0\" r=\"10.0\" /><rect x=\"190.0\" y=\"175.0\" width=\"40\" height=\"40\" stroke=\"black\" fill=\"white\" stroke-width=\"1\" /><text x=\"210.0\" y=\"195.0\" dominant-baseline=\"middle\" text-anchor=\"middle\" font-size=\"18px\" font-family=\"Arial\">X</text><circle cx=\"260.0\" cy=\"45.0\" r=\"10.0\" /><rect x=\"240.0\" y=\"175.0\" width=\"40\" height=\"40\" stroke=\"black\" fill=\"white\" stroke-width=\"1\" /><text x=\"260.0\" y=\"195.0\" dominant-baseline=\"middle\" text-anchor=\"middle\" font-size=\"18px\" font-family=\"Arial\">X</text><circle cx=\"300.0\" cy=\"95.0\" r=\"10.0\" /><rect x=\"280.0\" y=\"125.0\" width=\"40\" height=\"40\" stroke=\"black\" fill=\"white\" stroke-width=\"1\" /><text x=\"300.0\" y=\"145.0\" dominant-baseline=\"middle\" text-anchor=\"middle\" font-size=\"18px\" font-family=\"Arial\">X</text><rect x=\"350.0\" y=\"25.0\" width=\"40\" height=\"40\" stroke=\"black\" fill=\"white\" stroke-width=\"1\" /><text x=\"370.0\" y=\"45.0\" dominant-baseline=\"middle\" text-anchor=\"middle\" font-size=\"18px\" font-family=\"Arial\">H</text><rect x=\"350.0\" y=\"175.0\" width=\"40\" height=\"40\" stroke=\"black\" fill=\"white\" stroke-width=\"1\" /><text x=\"370.0\" y=\"195.0\" dominant-baseline=\"middle\" text-anchor=\"middle\" font-size=\"18px\" font-family=\"Arial\">X</text><rect x=\"350.0\" y=\"75.0\" width=\"40\" height=\"40\" stroke=\"black\" fill=\"white\" stroke-width=\"1\" /><text x=\"370.0\" y=\"95.0\" dominant-baseline=\"middle\" text-anchor=\"middle\" font-size=\"18px\" font-family=\"Arial\">H</text><rect x=\"350.0\" y=\"125.0\" width=\"40\" height=\"40\" stroke=\"black\" fill=\"white\" stroke-width=\"1\" /><text x=\"370.0\" y=\"145.0\" dominant-baseline=\"middle\" text-anchor=\"middle\" font-size=\"18px\" font-family=\"Arial\">X</text><rect x=\"410.0\" y=\"25.0\" width=\"40\" height=\"40\" stroke=\"black\" fill=\"white\" stroke-width=\"1\" /><text x=\"430.0\" y=\"45.0\" dominant-baseline=\"middle\" text-anchor=\"middle\" font-size=\"18px\" font-family=\"Arial\">X</text><rect x=\"410.0\" y=\"75.0\" width=\"40\" height=\"40\" stroke=\"black\" fill=\"white\" stroke-width=\"1\" /><text x=\"430.0\" y=\"95.0\" dominant-baseline=\"middle\" text-anchor=\"middle\" font-size=\"18px\" font-family=\"Arial\">X</text><rect x=\"470.0\" y=\"25.0\" width=\"45.4722265625\" height=\"40\" stroke=\"black\" fill=\"white\" stroke-width=\"1\" /><text x=\"492.73611328125\" y=\"45.0\" dominant-baseline=\"middle\" text-anchor=\"middle\" font-size=\"14px\" font-family=\"Arial\">M('z')</text><rect x=\"470.0\" y=\"75.0\" width=\"45.4722265625\" height=\"40\" stroke=\"black\" fill=\"white\" stroke-width=\"1\" /><text x=\"492.73611328125\" y=\"95.0\" dominant-baseline=\"middle\" text-anchor=\"middle\" font-size=\"18px\" font-family=\"Arial\">M</text><rect x=\"470.0\" y=\"125.0\" width=\"45.4722265625\" height=\"40\" stroke=\"black\" fill=\"white\" stroke-width=\"1\" /><text x=\"492.73611328125\" y=\"145.0\" dominant-baseline=\"middle\" text-anchor=\"middle\" font-size=\"18px\" font-family=\"Arial\">M</text><rect x=\"470.0\" y=\"175.0\" width=\"45.4722265625\" height=\"40\" stroke=\"black\" fill=\"white\" stroke-width=\"1\" /><text x=\"492.73611328125\" y=\"195.0\" dominant-baseline=\"middle\" text-anchor=\"middle\" font-size=\"18px\" font-family=\"Arial\">M</text></svg>"
      ],
      "text/plain": [
       "<cirq.contrib.svg.svg.SVGCircuit at 0x7fd12bfd2820>"
      ]
     },
     "execution_count": 883,
     "metadata": {},
     "output_type": "execute_result"
    }
   ],
   "source": [
    "''' monopole spin starting in |0>\n",
    "'''\n",
    "N = 4\n",
    "qubits = cirq.LineQubit.range(N)\n",
    "circuit = cirq.Circuit(tc.ZeroTet(qubits))\n",
    "circuit.append(tc.entangle_tets(qubits,[(0,3),(1,2)]))\n",
    "circuit.append(cirq.measure(*qubits,key='z'))\n",
    "\n",
    "sim = cirq.Simulator()\n",
    "reps = 1000\n",
    "results = sim.run(circuit,repetitions=reps)\n",
    "hist = results.histogram(key='z')\n",
    "\n",
    "for key,item in hist.items():\n",
    "    print(tc.binformat(N).format(key), item)\n",
    "\n",
    "print('Expectation |0>: ', hist[0]/reps)\n",
    "\n",
    "SVGCircuit(circuit)"
   ]
  },
  {
   "cell_type": "code",
   "execution_count": 884,
   "metadata": {},
   "outputs": [
    {
     "name": "stdout",
     "output_type": "stream",
     "text": [
      "0000 754\n",
      "1111 86\n",
      "1100 73\n",
      "0011 87\n",
      "Expectation |0>:  0.754\n"
     ]
    }
   ],
   "source": [
    "''' monopole spin starting in |1>\n",
    "'''\n",
    "N = 4\n",
    "reps = 1000\n",
    "\n",
    "qubits = cirq.LineQubit.range(N)\n",
    "circuit = cirq.Circuit(tc.OneTet(qubits))\n",
    "circuit.append(tc.entangle_tets(qubits,[(0,3),(1,2)]))\n",
    "circuit.append(cirq.measure(*qubits,key='z'))\n",
    "\n",
    "sim = cirq.Simulator()\n",
    "results = sim.run(circuit,repetitions=reps)\n",
    "hist = results.histogram(key='z')\n",
    "for key,item in hist.items():\n",
    "    print(tc.binformat(N).format(key),item)\n",
    "    \n",
    "print('Expectation |0>: ', hist[0]/reps)"
   ]
  },
  {
   "cell_type": "code",
   "execution_count": 880,
   "metadata": {},
   "outputs": [
    {
     "name": "stdout",
     "output_type": "stream",
     "text": [
      "Expectation 0:  0.0664\n"
     ]
    }
   ],
   "source": [
    "''' dipole spin starting in |0>\n",
    "'''\n",
    "N = 8\n",
    "reps = 10000\n",
    "\n",
    "qubits = cirq.LineQubit.range(N)\n",
    "circuit = cirq.Circuit(tc.ZeroTet(qubits[:4]),tc.ZeroTet(qubits[4:]))\n",
    "circuit.append(tc.entangle_tets(qubits,[(0,4),(1,5),(2,6),(3,7)]))\n",
    "circuit.append(cirq.measure(*qubits,key='z'))\n",
    "\n",
    "sim = cirq.Simulator()\n",
    "results = sim.run(circuit, repetitions=reps)\n",
    "hist = results.histogram(key='z')\n",
    "\n",
    "print('Expectation 0: ',hist[0]/reps)"
   ]
  },
  {
   "cell_type": "code",
   "execution_count": 885,
   "metadata": {},
   "outputs": [
    {
     "name": "stdout",
     "output_type": "stream",
     "text": [
      "0.0153\n"
     ]
    },
    {
     "data": {
      "image/svg+xml": [
       "<svg xmlns=\"http://www.w3.org/2000/svg\" width=\"645.4722265625\" height=\"640.0\"><line x1=\"30.0\" x2=\"615.4722265625\" y1=\"45.0\" y2=\"45.0\" stroke=\"#1967d2\" stroke-width=\"1\" /><line x1=\"30.0\" x2=\"615.4722265625\" y1=\"95.0\" y2=\"95.0\" stroke=\"#1967d2\" stroke-width=\"1\" /><line x1=\"30.0\" x2=\"615.4722265625\" y1=\"145.0\" y2=\"145.0\" stroke=\"#1967d2\" stroke-width=\"1\" /><line x1=\"30.0\" x2=\"615.4722265625\" y1=\"195.0\" y2=\"195.0\" stroke=\"#1967d2\" stroke-width=\"1\" /><line x1=\"30.0\" x2=\"615.4722265625\" y1=\"245.0\" y2=\"245.0\" stroke=\"#1967d2\" stroke-width=\"1\" /><line x1=\"30.0\" x2=\"615.4722265625\" y1=\"295.0\" y2=\"295.0\" stroke=\"#1967d2\" stroke-width=\"1\" /><line x1=\"30.0\" x2=\"615.4722265625\" y1=\"345.0\" y2=\"345.0\" stroke=\"#1967d2\" stroke-width=\"1\" /><line x1=\"30.0\" x2=\"615.4722265625\" y1=\"395.0\" y2=\"395.0\" stroke=\"#1967d2\" stroke-width=\"1\" /><line x1=\"30.0\" x2=\"615.4722265625\" y1=\"445.0\" y2=\"445.0\" stroke=\"#1967d2\" stroke-width=\"1\" /><line x1=\"30.0\" x2=\"615.4722265625\" y1=\"495.0\" y2=\"495.0\" stroke=\"#1967d2\" stroke-width=\"1\" /><line x1=\"30.0\" x2=\"615.4722265625\" y1=\"545.0\" y2=\"545.0\" stroke=\"#1967d2\" stroke-width=\"1\" /><line x1=\"30.0\" x2=\"615.4722265625\" y1=\"595.0\" y2=\"595.0\" stroke=\"#1967d2\" stroke-width=\"1\" /><line x1=\"240.0\" x2=\"410.0\" y1=\"5.0\" y2=\"5.0\" stroke=\"black\" stroke-width=\"1\" /><line x1=\"240.0\" x2=\"410.0\" y1=\"635.0\" y2=\"635.0\" stroke=\"black\" stroke-width=\"1\" /><line x1=\"210.0\" x2=\"210.0\" y1=\"45.0\" y2=\"95.0\" stroke=\"black\" stroke-width=\"3\" /><line x1=\"210.0\" x2=\"210.0\" y1=\"145.0\" y2=\"195.0\" stroke=\"black\" stroke-width=\"3\" /><line x1=\"210.0\" x2=\"210.0\" y1=\"245.0\" y2=\"295.0\" stroke=\"black\" stroke-width=\"3\" /><line x1=\"210.0\" x2=\"210.0\" y1=\"345.0\" y2=\"395.0\" stroke=\"black\" stroke-width=\"3\" /><line x1=\"210.0\" x2=\"210.0\" y1=\"445.0\" y2=\"495.0\" stroke=\"black\" stroke-width=\"3\" /><line x1=\"210.0\" x2=\"210.0\" y1=\"545.0\" y2=\"595.0\" stroke=\"black\" stroke-width=\"3\" /><line x1=\"260.0\" x2=\"260.0\" y1=\"45.0\" y2=\"245.0\" stroke=\"black\" stroke-width=\"3\" /><line x1=\"300.0\" x2=\"300.0\" y1=\"95.0\" y2=\"295.0\" stroke=\"black\" stroke-width=\"3\" /><line x1=\"340.0\" x2=\"340.0\" y1=\"145.0\" y2=\"545.0\" stroke=\"black\" stroke-width=\"3\" /><line x1=\"380.0\" x2=\"380.0\" y1=\"195.0\" y2=\"595.0\" stroke=\"black\" stroke-width=\"3\" /><line x1=\"260.0\" x2=\"260.0\" y1=\"345.0\" y2=\"445.0\" stroke=\"black\" stroke-width=\"3\" /><line x1=\"300.0\" x2=\"300.0\" y1=\"395.0\" y2=\"495.0\" stroke=\"black\" stroke-width=\"3\" /><line x1=\"572.73611328125\" x2=\"572.73611328125\" y1=\"45.0\" y2=\"595.0\" stroke=\"black\" stroke-width=\"3\" /><line x1=\"240.0\" x2=\"240.0\" y1=\"5.0\" y2=\"15.0\" stroke=\"black\" stroke-width=\"3\" /><line x1=\"410.0\" x2=\"410.0\" y1=\"5.0\" y2=\"15.0\" stroke=\"black\" stroke-width=\"3\" /><line x1=\"240.0\" x2=\"240.0\" y1=\"625.0\" y2=\"635.0\" stroke=\"black\" stroke-width=\"3\" /><line x1=\"410.0\" x2=\"410.0\" y1=\"625.0\" y2=\"635.0\" stroke=\"black\" stroke-width=\"3\" /><rect x=\"10.0\" y=\"25.0\" width=\"40\" height=\"40\" stroke=\"black\" fill=\"white\" stroke-width=\"0\" /><text x=\"30.0\" y=\"45.0\" dominant-baseline=\"middle\" text-anchor=\"middle\" font-size=\"14px\" font-family=\"Arial\">0: </text><rect x=\"10.0\" y=\"75.0\" width=\"40\" height=\"40\" stroke=\"black\" fill=\"white\" stroke-width=\"0\" /><text x=\"30.0\" y=\"95.0\" dominant-baseline=\"middle\" text-anchor=\"middle\" font-size=\"14px\" font-family=\"Arial\">1: </text><rect x=\"10.0\" y=\"125.0\" width=\"40\" height=\"40\" stroke=\"black\" fill=\"white\" stroke-width=\"0\" /><text x=\"30.0\" y=\"145.0\" dominant-baseline=\"middle\" text-anchor=\"middle\" font-size=\"14px\" font-family=\"Arial\">2: </text><rect x=\"10.0\" y=\"175.0\" width=\"40\" height=\"40\" stroke=\"black\" fill=\"white\" stroke-width=\"0\" /><text x=\"30.0\" y=\"195.0\" dominant-baseline=\"middle\" text-anchor=\"middle\" font-size=\"14px\" font-family=\"Arial\">3: </text><rect x=\"10.0\" y=\"225.0\" width=\"40\" height=\"40\" stroke=\"black\" fill=\"white\" stroke-width=\"0\" /><text x=\"30.0\" y=\"245.0\" dominant-baseline=\"middle\" text-anchor=\"middle\" font-size=\"14px\" font-family=\"Arial\">4: </text><rect x=\"10.0\" y=\"275.0\" width=\"40\" height=\"40\" stroke=\"black\" fill=\"white\" stroke-width=\"0\" /><text x=\"30.0\" y=\"295.0\" dominant-baseline=\"middle\" text-anchor=\"middle\" font-size=\"14px\" font-family=\"Arial\">5: </text><rect x=\"10.0\" y=\"325.0\" width=\"40\" height=\"40\" stroke=\"black\" fill=\"white\" stroke-width=\"0\" /><text x=\"30.0\" y=\"345.0\" dominant-baseline=\"middle\" text-anchor=\"middle\" font-size=\"14px\" font-family=\"Arial\">6: </text><rect x=\"10.0\" y=\"375.0\" width=\"40\" height=\"40\" stroke=\"black\" fill=\"white\" stroke-width=\"0\" /><text x=\"30.0\" y=\"395.0\" dominant-baseline=\"middle\" text-anchor=\"middle\" font-size=\"14px\" font-family=\"Arial\">7: </text><rect x=\"10.0\" y=\"425.0\" width=\"40\" height=\"40\" stroke=\"black\" fill=\"white\" stroke-width=\"0\" /><text x=\"30.0\" y=\"445.0\" dominant-baseline=\"middle\" text-anchor=\"middle\" font-size=\"14px\" font-family=\"Arial\">8: </text><rect x=\"10.0\" y=\"475.0\" width=\"40\" height=\"40\" stroke=\"black\" fill=\"white\" stroke-width=\"0\" /><text x=\"30.0\" y=\"495.0\" dominant-baseline=\"middle\" text-anchor=\"middle\" font-size=\"14px\" font-family=\"Arial\">9: </text><rect x=\"10.0\" y=\"525.0\" width=\"40\" height=\"40\" stroke=\"black\" fill=\"white\" stroke-width=\"0\" /><text x=\"30.0\" y=\"545.0\" dominant-baseline=\"middle\" text-anchor=\"middle\" font-size=\"14px\" font-family=\"Arial\">10: </text><rect x=\"10.0\" y=\"575.0\" width=\"40\" height=\"40\" stroke=\"black\" fill=\"white\" stroke-width=\"0\" /><text x=\"30.0\" y=\"595.0\" dominant-baseline=\"middle\" text-anchor=\"middle\" font-size=\"14px\" font-family=\"Arial\">11: </text><rect x=\"70.0\" y=\"25.0\" width=\"40\" height=\"40\" stroke=\"black\" fill=\"white\" stroke-width=\"1\" /><text x=\"90.0\" y=\"45.0\" dominant-baseline=\"middle\" text-anchor=\"middle\" font-size=\"18px\" font-family=\"Arial\">X</text><rect x=\"70.0\" y=\"75.0\" width=\"40\" height=\"40\" stroke=\"black\" fill=\"white\" stroke-width=\"1\" /><text x=\"90.0\" y=\"95.0\" dominant-baseline=\"middle\" text-anchor=\"middle\" font-size=\"18px\" font-family=\"Arial\">X</text><rect x=\"70.0\" y=\"125.0\" width=\"40\" height=\"40\" stroke=\"black\" fill=\"white\" stroke-width=\"1\" /><text x=\"90.0\" y=\"145.0\" dominant-baseline=\"middle\" text-anchor=\"middle\" font-size=\"18px\" font-family=\"Arial\">X</text><rect x=\"70.0\" y=\"175.0\" width=\"40\" height=\"40\" stroke=\"black\" fill=\"white\" stroke-width=\"1\" /><text x=\"90.0\" y=\"195.0\" dominant-baseline=\"middle\" text-anchor=\"middle\" font-size=\"18px\" font-family=\"Arial\">X</text><rect x=\"70.0\" y=\"225.0\" width=\"40\" height=\"40\" stroke=\"black\" fill=\"white\" stroke-width=\"1\" /><text x=\"90.0\" y=\"245.0\" dominant-baseline=\"middle\" text-anchor=\"middle\" font-size=\"18px\" font-family=\"Arial\">X</text><rect x=\"70.0\" y=\"275.0\" width=\"40\" height=\"40\" stroke=\"black\" fill=\"white\" stroke-width=\"1\" /><text x=\"90.0\" y=\"295.0\" dominant-baseline=\"middle\" text-anchor=\"middle\" font-size=\"18px\" font-family=\"Arial\">X</text><rect x=\"70.0\" y=\"325.0\" width=\"40\" height=\"40\" stroke=\"black\" fill=\"white\" stroke-width=\"1\" /><text x=\"90.0\" y=\"345.0\" dominant-baseline=\"middle\" text-anchor=\"middle\" font-size=\"18px\" font-family=\"Arial\">X</text><rect x=\"70.0\" y=\"375.0\" width=\"40\" height=\"40\" stroke=\"black\" fill=\"white\" stroke-width=\"1\" /><text x=\"90.0\" y=\"395.0\" dominant-baseline=\"middle\" text-anchor=\"middle\" font-size=\"18px\" font-family=\"Arial\">X</text><rect x=\"70.0\" y=\"425.0\" width=\"40\" height=\"40\" stroke=\"black\" fill=\"white\" stroke-width=\"1\" /><text x=\"90.0\" y=\"445.0\" dominant-baseline=\"middle\" text-anchor=\"middle\" font-size=\"18px\" font-family=\"Arial\">X</text><rect x=\"70.0\" y=\"475.0\" width=\"40\" height=\"40\" stroke=\"black\" fill=\"white\" stroke-width=\"1\" /><text x=\"90.0\" y=\"495.0\" dominant-baseline=\"middle\" text-anchor=\"middle\" font-size=\"18px\" font-family=\"Arial\">X</text><rect x=\"70.0\" y=\"525.0\" width=\"40\" height=\"40\" stroke=\"black\" fill=\"white\" stroke-width=\"1\" /><text x=\"90.0\" y=\"545.0\" dominant-baseline=\"middle\" text-anchor=\"middle\" font-size=\"18px\" font-family=\"Arial\">X</text><rect x=\"70.0\" y=\"575.0\" width=\"40\" height=\"40\" stroke=\"black\" fill=\"white\" stroke-width=\"1\" /><text x=\"90.0\" y=\"595.0\" dominant-baseline=\"middle\" text-anchor=\"middle\" font-size=\"18px\" font-family=\"Arial\">X</text><rect x=\"130.0\" y=\"25.0\" width=\"40\" height=\"40\" stroke=\"black\" fill=\"white\" stroke-width=\"1\" /><text x=\"150.0\" y=\"45.0\" dominant-baseline=\"middle\" text-anchor=\"middle\" font-size=\"18px\" font-family=\"Arial\">H</text><rect x=\"130.0\" y=\"125.0\" width=\"40\" height=\"40\" stroke=\"black\" fill=\"white\" stroke-width=\"1\" /><text x=\"150.0\" y=\"145.0\" dominant-baseline=\"middle\" text-anchor=\"middle\" font-size=\"18px\" font-family=\"Arial\">H</text><rect x=\"130.0\" y=\"225.0\" width=\"40\" height=\"40\" stroke=\"black\" fill=\"white\" stroke-width=\"1\" /><text x=\"150.0\" y=\"245.0\" dominant-baseline=\"middle\" text-anchor=\"middle\" font-size=\"18px\" font-family=\"Arial\">H</text><rect x=\"130.0\" y=\"325.0\" width=\"40\" height=\"40\" stroke=\"black\" fill=\"white\" stroke-width=\"1\" /><text x=\"150.0\" y=\"345.0\" dominant-baseline=\"middle\" text-anchor=\"middle\" font-size=\"18px\" font-family=\"Arial\">H</text><rect x=\"130.0\" y=\"425.0\" width=\"40\" height=\"40\" stroke=\"black\" fill=\"white\" stroke-width=\"1\" /><text x=\"150.0\" y=\"445.0\" dominant-baseline=\"middle\" text-anchor=\"middle\" font-size=\"18px\" font-family=\"Arial\">H</text><rect x=\"130.0\" y=\"525.0\" width=\"40\" height=\"40\" stroke=\"black\" fill=\"white\" stroke-width=\"1\" /><text x=\"150.0\" y=\"545.0\" dominant-baseline=\"middle\" text-anchor=\"middle\" font-size=\"18px\" font-family=\"Arial\">H</text><circle cx=\"210.0\" cy=\"45.0\" r=\"10.0\" /><rect x=\"190.0\" y=\"75.0\" width=\"40\" height=\"40\" stroke=\"black\" fill=\"white\" stroke-width=\"1\" /><text x=\"210.0\" y=\"95.0\" dominant-baseline=\"middle\" text-anchor=\"middle\" font-size=\"18px\" font-family=\"Arial\">X</text><circle cx=\"210.0\" cy=\"145.0\" r=\"10.0\" /><rect x=\"190.0\" y=\"175.0\" width=\"40\" height=\"40\" stroke=\"black\" fill=\"white\" stroke-width=\"1\" /><text x=\"210.0\" y=\"195.0\" dominant-baseline=\"middle\" text-anchor=\"middle\" font-size=\"18px\" font-family=\"Arial\">X</text><circle cx=\"210.0\" cy=\"245.0\" r=\"10.0\" /><rect x=\"190.0\" y=\"275.0\" width=\"40\" height=\"40\" stroke=\"black\" fill=\"white\" stroke-width=\"1\" /><text x=\"210.0\" y=\"295.0\" dominant-baseline=\"middle\" text-anchor=\"middle\" font-size=\"18px\" font-family=\"Arial\">X</text><circle cx=\"210.0\" cy=\"345.0\" r=\"10.0\" /><rect x=\"190.0\" y=\"375.0\" width=\"40\" height=\"40\" stroke=\"black\" fill=\"white\" stroke-width=\"1\" /><text x=\"210.0\" y=\"395.0\" dominant-baseline=\"middle\" text-anchor=\"middle\" font-size=\"18px\" font-family=\"Arial\">X</text><circle cx=\"210.0\" cy=\"445.0\" r=\"10.0\" /><rect x=\"190.0\" y=\"475.0\" width=\"40\" height=\"40\" stroke=\"black\" fill=\"white\" stroke-width=\"1\" /><text x=\"210.0\" y=\"495.0\" dominant-baseline=\"middle\" text-anchor=\"middle\" font-size=\"18px\" font-family=\"Arial\">X</text><circle cx=\"210.0\" cy=\"545.0\" r=\"10.0\" /><rect x=\"190.0\" y=\"575.0\" width=\"40\" height=\"40\" stroke=\"black\" fill=\"white\" stroke-width=\"1\" /><text x=\"210.0\" y=\"595.0\" dominant-baseline=\"middle\" text-anchor=\"middle\" font-size=\"18px\" font-family=\"Arial\">X</text><circle cx=\"260.0\" cy=\"45.0\" r=\"10.0\" /><rect x=\"240.0\" y=\"225.0\" width=\"40\" height=\"40\" stroke=\"black\" fill=\"white\" stroke-width=\"1\" /><text x=\"260.0\" y=\"245.0\" dominant-baseline=\"middle\" text-anchor=\"middle\" font-size=\"18px\" font-family=\"Arial\">X</text><circle cx=\"300.0\" cy=\"95.0\" r=\"10.0\" /><rect x=\"280.0\" y=\"275.0\" width=\"40\" height=\"40\" stroke=\"black\" fill=\"white\" stroke-width=\"1\" /><text x=\"300.0\" y=\"295.0\" dominant-baseline=\"middle\" text-anchor=\"middle\" font-size=\"18px\" font-family=\"Arial\">X</text><circle cx=\"340.0\" cy=\"145.0\" r=\"10.0\" /><rect x=\"320.0\" y=\"525.0\" width=\"40\" height=\"40\" stroke=\"black\" fill=\"white\" stroke-width=\"1\" /><text x=\"340.0\" y=\"545.0\" dominant-baseline=\"middle\" text-anchor=\"middle\" font-size=\"18px\" font-family=\"Arial\">X</text><circle cx=\"380.0\" cy=\"195.0\" r=\"10.0\" /><rect x=\"360.0\" y=\"575.0\" width=\"40\" height=\"40\" stroke=\"black\" fill=\"white\" stroke-width=\"1\" /><text x=\"380.0\" y=\"595.0\" dominant-baseline=\"middle\" text-anchor=\"middle\" font-size=\"18px\" font-family=\"Arial\">X</text><circle cx=\"260.0\" cy=\"345.0\" r=\"10.0\" /><rect x=\"240.0\" y=\"425.0\" width=\"40\" height=\"40\" stroke=\"black\" fill=\"white\" stroke-width=\"1\" /><text x=\"260.0\" y=\"445.0\" dominant-baseline=\"middle\" text-anchor=\"middle\" font-size=\"18px\" font-family=\"Arial\">X</text><circle cx=\"300.0\" cy=\"395.0\" r=\"10.0\" /><rect x=\"280.0\" y=\"475.0\" width=\"40\" height=\"40\" stroke=\"black\" fill=\"white\" stroke-width=\"1\" /><text x=\"300.0\" y=\"495.0\" dominant-baseline=\"middle\" text-anchor=\"middle\" font-size=\"18px\" font-family=\"Arial\">X</text><rect x=\"430.0\" y=\"25.0\" width=\"40\" height=\"40\" stroke=\"black\" fill=\"white\" stroke-width=\"1\" /><text x=\"450.0\" y=\"45.0\" dominant-baseline=\"middle\" text-anchor=\"middle\" font-size=\"18px\" font-family=\"Arial\">H</text><rect x=\"430.0\" y=\"225.0\" width=\"40\" height=\"40\" stroke=\"black\" fill=\"white\" stroke-width=\"1\" /><text x=\"450.0\" y=\"245.0\" dominant-baseline=\"middle\" text-anchor=\"middle\" font-size=\"18px\" font-family=\"Arial\">X</text><rect x=\"430.0\" y=\"75.0\" width=\"40\" height=\"40\" stroke=\"black\" fill=\"white\" stroke-width=\"1\" /><text x=\"450.0\" y=\"95.0\" dominant-baseline=\"middle\" text-anchor=\"middle\" font-size=\"18px\" font-family=\"Arial\">H</text><rect x=\"430.0\" y=\"275.0\" width=\"40\" height=\"40\" stroke=\"black\" fill=\"white\" stroke-width=\"1\" /><text x=\"450.0\" y=\"295.0\" dominant-baseline=\"middle\" text-anchor=\"middle\" font-size=\"18px\" font-family=\"Arial\">X</text><rect x=\"430.0\" y=\"125.0\" width=\"40\" height=\"40\" stroke=\"black\" fill=\"white\" stroke-width=\"1\" /><text x=\"450.0\" y=\"145.0\" dominant-baseline=\"middle\" text-anchor=\"middle\" font-size=\"18px\" font-family=\"Arial\">H</text><rect x=\"430.0\" y=\"525.0\" width=\"40\" height=\"40\" stroke=\"black\" fill=\"white\" stroke-width=\"1\" /><text x=\"450.0\" y=\"545.0\" dominant-baseline=\"middle\" text-anchor=\"middle\" font-size=\"18px\" font-family=\"Arial\">X</text><rect x=\"430.0\" y=\"175.0\" width=\"40\" height=\"40\" stroke=\"black\" fill=\"white\" stroke-width=\"1\" /><text x=\"450.0\" y=\"195.0\" dominant-baseline=\"middle\" text-anchor=\"middle\" font-size=\"18px\" font-family=\"Arial\">H</text><rect x=\"430.0\" y=\"575.0\" width=\"40\" height=\"40\" stroke=\"black\" fill=\"white\" stroke-width=\"1\" /><text x=\"450.0\" y=\"595.0\" dominant-baseline=\"middle\" text-anchor=\"middle\" font-size=\"18px\" font-family=\"Arial\">X</text><rect x=\"430.0\" y=\"325.0\" width=\"40\" height=\"40\" stroke=\"black\" fill=\"white\" stroke-width=\"1\" /><text x=\"450.0\" y=\"345.0\" dominant-baseline=\"middle\" text-anchor=\"middle\" font-size=\"18px\" font-family=\"Arial\">H</text><rect x=\"430.0\" y=\"425.0\" width=\"40\" height=\"40\" stroke=\"black\" fill=\"white\" stroke-width=\"1\" /><text x=\"450.0\" y=\"445.0\" dominant-baseline=\"middle\" text-anchor=\"middle\" font-size=\"18px\" font-family=\"Arial\">X</text><rect x=\"430.0\" y=\"375.0\" width=\"40\" height=\"40\" stroke=\"black\" fill=\"white\" stroke-width=\"1\" /><text x=\"450.0\" y=\"395.0\" dominant-baseline=\"middle\" text-anchor=\"middle\" font-size=\"18px\" font-family=\"Arial\">H</text><rect x=\"430.0\" y=\"475.0\" width=\"40\" height=\"40\" stroke=\"black\" fill=\"white\" stroke-width=\"1\" /><text x=\"450.0\" y=\"495.0\" dominant-baseline=\"middle\" text-anchor=\"middle\" font-size=\"18px\" font-family=\"Arial\">X</text><rect x=\"490.0\" y=\"25.0\" width=\"40\" height=\"40\" stroke=\"black\" fill=\"white\" stroke-width=\"1\" /><text x=\"510.0\" y=\"45.0\" dominant-baseline=\"middle\" text-anchor=\"middle\" font-size=\"18px\" font-family=\"Arial\">X</text><rect x=\"490.0\" y=\"75.0\" width=\"40\" height=\"40\" stroke=\"black\" fill=\"white\" stroke-width=\"1\" /><text x=\"510.0\" y=\"95.0\" dominant-baseline=\"middle\" text-anchor=\"middle\" font-size=\"18px\" font-family=\"Arial\">X</text><rect x=\"490.0\" y=\"125.0\" width=\"40\" height=\"40\" stroke=\"black\" fill=\"white\" stroke-width=\"1\" /><text x=\"510.0\" y=\"145.0\" dominant-baseline=\"middle\" text-anchor=\"middle\" font-size=\"18px\" font-family=\"Arial\">X</text><rect x=\"490.0\" y=\"175.0\" width=\"40\" height=\"40\" stroke=\"black\" fill=\"white\" stroke-width=\"1\" /><text x=\"510.0\" y=\"195.0\" dominant-baseline=\"middle\" text-anchor=\"middle\" font-size=\"18px\" font-family=\"Arial\">X</text><rect x=\"490.0\" y=\"325.0\" width=\"40\" height=\"40\" stroke=\"black\" fill=\"white\" stroke-width=\"1\" /><text x=\"510.0\" y=\"345.0\" dominant-baseline=\"middle\" text-anchor=\"middle\" font-size=\"18px\" font-family=\"Arial\">X</text><rect x=\"490.0\" y=\"375.0\" width=\"40\" height=\"40\" stroke=\"black\" fill=\"white\" stroke-width=\"1\" /><text x=\"510.0\" y=\"395.0\" dominant-baseline=\"middle\" text-anchor=\"middle\" font-size=\"18px\" font-family=\"Arial\">X</text><rect x=\"550.0\" y=\"25.0\" width=\"45.4722265625\" height=\"40\" stroke=\"black\" fill=\"white\" stroke-width=\"1\" /><text x=\"572.73611328125\" y=\"45.0\" dominant-baseline=\"middle\" text-anchor=\"middle\" font-size=\"14px\" font-family=\"Arial\">M('z')</text><rect x=\"550.0\" y=\"75.0\" width=\"45.4722265625\" height=\"40\" stroke=\"black\" fill=\"white\" stroke-width=\"1\" /><text x=\"572.73611328125\" y=\"95.0\" dominant-baseline=\"middle\" text-anchor=\"middle\" font-size=\"18px\" font-family=\"Arial\">M</text><rect x=\"550.0\" y=\"125.0\" width=\"45.4722265625\" height=\"40\" stroke=\"black\" fill=\"white\" stroke-width=\"1\" /><text x=\"572.73611328125\" y=\"145.0\" dominant-baseline=\"middle\" text-anchor=\"middle\" font-size=\"18px\" font-family=\"Arial\">M</text><rect x=\"550.0\" y=\"175.0\" width=\"45.4722265625\" height=\"40\" stroke=\"black\" fill=\"white\" stroke-width=\"1\" /><text x=\"572.73611328125\" y=\"195.0\" dominant-baseline=\"middle\" text-anchor=\"middle\" font-size=\"18px\" font-family=\"Arial\">M</text><rect x=\"550.0\" y=\"225.0\" width=\"45.4722265625\" height=\"40\" stroke=\"black\" fill=\"white\" stroke-width=\"1\" /><text x=\"572.73611328125\" y=\"245.0\" dominant-baseline=\"middle\" text-anchor=\"middle\" font-size=\"18px\" font-family=\"Arial\">M</text><rect x=\"550.0\" y=\"275.0\" width=\"45.4722265625\" height=\"40\" stroke=\"black\" fill=\"white\" stroke-width=\"1\" /><text x=\"572.73611328125\" y=\"295.0\" dominant-baseline=\"middle\" text-anchor=\"middle\" font-size=\"18px\" font-family=\"Arial\">M</text><rect x=\"550.0\" y=\"325.0\" width=\"45.4722265625\" height=\"40\" stroke=\"black\" fill=\"white\" stroke-width=\"1\" /><text x=\"572.73611328125\" y=\"345.0\" dominant-baseline=\"middle\" text-anchor=\"middle\" font-size=\"18px\" font-family=\"Arial\">M</text><rect x=\"550.0\" y=\"375.0\" width=\"45.4722265625\" height=\"40\" stroke=\"black\" fill=\"white\" stroke-width=\"1\" /><text x=\"572.73611328125\" y=\"395.0\" dominant-baseline=\"middle\" text-anchor=\"middle\" font-size=\"18px\" font-family=\"Arial\">M</text><rect x=\"550.0\" y=\"425.0\" width=\"45.4722265625\" height=\"40\" stroke=\"black\" fill=\"white\" stroke-width=\"1\" /><text x=\"572.73611328125\" y=\"445.0\" dominant-baseline=\"middle\" text-anchor=\"middle\" font-size=\"18px\" font-family=\"Arial\">M</text><rect x=\"550.0\" y=\"475.0\" width=\"45.4722265625\" height=\"40\" stroke=\"black\" fill=\"white\" stroke-width=\"1\" /><text x=\"572.73611328125\" y=\"495.0\" dominant-baseline=\"middle\" text-anchor=\"middle\" font-size=\"18px\" font-family=\"Arial\">M</text><rect x=\"550.0\" y=\"525.0\" width=\"45.4722265625\" height=\"40\" stroke=\"black\" fill=\"white\" stroke-width=\"1\" /><text x=\"572.73611328125\" y=\"545.0\" dominant-baseline=\"middle\" text-anchor=\"middle\" font-size=\"18px\" font-family=\"Arial\">M</text><rect x=\"550.0\" y=\"575.0\" width=\"45.4722265625\" height=\"40\" stroke=\"black\" fill=\"white\" stroke-width=\"1\" /><text x=\"572.73611328125\" y=\"595.0\" dominant-baseline=\"middle\" text-anchor=\"middle\" font-size=\"18px\" font-family=\"Arial\">M</text></svg>"
      ],
      "text/plain": [
       "<cirq.contrib.svg.svg.SVGCircuit at 0x7fd12c18ad90>"
      ]
     },
     "execution_count": 885,
     "metadata": {},
     "output_type": "execute_result"
    }
   ],
   "source": [
    "''' tripole spin\n",
    "'''\n",
    "N = 12\n",
    "reps = 10000\n",
    "\n",
    "qubits = cirq.LineQubit.range(N)\n",
    "circuit = cirq.Circuit(tc.ZeroTet(qubits[:4]),tc.ZeroTet(qubits[4:8]),tc.ZeroTet(qubits[8:]))\n",
    "circuit.append(tc.entangle_tets(qubits,[(0,4),(1,5),(2,10),(3,11),(6,8),(7,9)]))\n",
    "circuit.append(cirq.measure(*qubits,key='z'))\n",
    "\n",
    "sim = cirq.Simulator()\n",
    "hist = sim.run(circuit,repetitions=reps).histogram(key='z')\n",
    "\n",
    "print(hist[0]/reps)\n",
    "SVGCircuit(circuit)"
   ]
  },
  {
   "cell_type": "code",
   "execution_count": 877,
   "metadata": {},
   "outputs": [
    {
     "name": "stdout",
     "output_type": "stream",
     "text": [
      "1\n"
     ]
    }
   ],
   "source": [
    "''' 20 maybe it will work \n",
    "'''\n",
    "# 2^20 * 64 bits\n",
    "N = 20\n",
    "qubits = cirq.LineQubit.range(N)\n",
    "circuit = cirq.Circuit([tc.ZeroTet(qubits[(i*4):(i*4+4)]) for i in range(5)])\n",
    "#circuit = cirq.Circuit([tc.TetStatePrep(qubits[(i*4):(i*4+4)],(0,0)) for i in range(5)])\n",
    "circuit.append(\n",
    "    tc.entangle_tets(qubits, \n",
    "        [(3,4),(2,9),(6,13),(7,8),\n",
    "         (10,17),(11,12),(14,1),\n",
    "         (18,5),(19,0),(15,16)\n",
    "        ]\n",
    "    )\n",
    ")\n",
    "circuit.append(cirq.measure(*qubits,key='z'))\n",
    "\n",
    "sim = cirq.Simulator()\n",
    "\n",
    "hist = sim.run(circuit,repetitions=100000).histogram(key='z')\n",
    "for key,item in hist.items():\n",
    "    s = tc.binformat(20).format(key)\n",
    "print(hist[0])"
   ]
  },
  {
   "cell_type": "code",
   "execution_count": 851,
   "metadata": {},
   "outputs": [
    {
     "name": "stdout",
     "output_type": "stream",
     "text": [
      "0\n"
     ]
    }
   ],
   "source": []
  },
  {
   "cell_type": "code",
   "execution_count": null,
   "metadata": {},
   "outputs": [],
   "source": []
  },
  {
   "cell_type": "code",
   "execution_count": 808,
   "metadata": {},
   "outputs": [],
   "source": [
    "# <0|e>\n",
    "#qubits = cirq.LineQubit.range(4)\n",
    "#circuit = cirq.Circuit(tc.ZeroTet(qubits))\n",
    "#circuit.append([cirq.H.on_each(qubits[:2]),cirq.X.on_each(qubits[:2])])\n",
    "#b = tc.final_state(circuit)\n",
    "#print(tn.overlap(b,tn.L_zero))\n",
    "#\n",
    "#\n",
    "## <1|e>\n",
    "#circuit = cirq.Circuit(tc.TetStatePrep(qubits,(2*np.pi/3,np.pi)))\n",
    "#circuit.append(tc.apply(cirq.ISWAP**-.5, qubits,[(2,1),(3,0)]))\n",
    "#b = tc.final_state(circuit)\n",
    "#print(tn.overlap(b,tn.L_one))\n",
    "#SVGCircuit(circuit)"
   ]
  },
  {
   "cell_type": "code",
   "execution_count": 809,
   "metadata": {},
   "outputs": [
    {
     "name": "stdout",
     "output_type": "stream",
     "text": [
      "0: ───PhXZ(a=0.917,x=0.276,z=-0.501)──────Rz(-0.25π)───PhXZ(a=-0.75,x=0,z=-0.75)───\n",
      "\n",
      "1: ───PhXZ(a=0.895,x=2.22e-16,z=-0.166)───Rz(-0.25π)───PhXZ(a=1.0,x=0.5,z=0)───────\n"
     ]
    },
    {
     "data": {
      "image/svg+xml": [
       "<svg xmlns=\"http://www.w3.org/2000/svg\" width=\"1921.1546484375003\" height=\"100.0\"><line x1=\"30.0\" x2=\"1891.1546484375003\" y1=\"25.0\" y2=\"25.0\" stroke=\"#1967d2\" stroke-width=\"1\" /><line x1=\"30.0\" x2=\"1891.1546484375003\" y1=\"75.0\" y2=\"75.0\" stroke=\"#1967d2\" stroke-width=\"1\" /><line x1=\"880.0739453125002\" x2=\"880.0739453125002\" y1=\"25.0\" y2=\"75.0\" stroke=\"black\" stroke-width=\"3\" /><line x1=\"1055.5861132812502\" x2=\"1055.5861132812502\" y1=\"25.0\" y2=\"75.0\" stroke=\"black\" stroke-width=\"3\" /><rect x=\"10.0\" y=\"5.0\" width=\"40\" height=\"40\" stroke=\"black\" fill=\"white\" stroke-width=\"0\" /><text x=\"30.0\" y=\"25.0\" dominant-baseline=\"middle\" text-anchor=\"middle\" font-size=\"14px\" font-family=\"Arial\">0: </text><rect x=\"10.0\" y=\"55.0\" width=\"40\" height=\"40\" stroke=\"black\" fill=\"white\" stroke-width=\"0\" /><text x=\"30.0\" y=\"75.0\" dominant-baseline=\"middle\" text-anchor=\"middle\" font-size=\"14px\" font-family=\"Arial\">1: </text><rect x=\"70.0\" y=\"55.0\" width=\"253.48980468750005\" height=\"40\" stroke=\"black\" fill=\"white\" stroke-width=\"1\" /><text x=\"196.74490234375003\" y=\"75.0\" dominant-baseline=\"middle\" text-anchor=\"middle\" font-size=\"14px\" font-family=\"Arial\">PhXZ(a=-6.66e-16,x=0.5,z=0)</text><rect x=\"70.0\" y=\"5.0\" width=\"253.48980468750005\" height=\"40\" stroke=\"black\" fill=\"white\" stroke-width=\"1\" /><text x=\"196.74490234375003\" y=\"25.0\" dominant-baseline=\"middle\" text-anchor=\"middle\" font-size=\"14px\" font-family=\"Arial\">PhXZ(a=-0.584,x=0.276,z=-0.332)</text><rect x=\"343.48980468750005\" y=\"55.0\" width=\"222.31792968750003\" height=\"40\" stroke=\"black\" fill=\"white\" stroke-width=\"1\" /><text x=\"454.6487695312501\" y=\"75.0\" dominant-baseline=\"middle\" text-anchor=\"middle\" font-size=\"14px\" font-family=\"Arial\">PhXZ(a=-0.258,x=0,z=-0.668)</text><rect x=\"585.8077343750001\" y=\"55.0\" width=\"66.1167578125\" height=\"40\" stroke=\"black\" fill=\"white\" stroke-width=\"1\" /><text x=\"618.8661132812501\" y=\"75.0\" dominant-baseline=\"middle\" text-anchor=\"middle\" font-size=\"14px\" font-family=\"Arial\">Y^-0.5</text><rect x=\"585.8077343750001\" y=\"5.0\" width=\"66.1167578125\" height=\"40\" stroke=\"black\" fill=\"white\" stroke-width=\"1\" /><text x=\"618.8661132812501\" y=\"25.0\" dominant-baseline=\"middle\" text-anchor=\"middle\" font-size=\"14px\" font-family=\"Arial\">Rz(0.5π)</text><rect x=\"671.9244921875002\" y=\"55.0\" width=\"67.05328125\" height=\"40\" stroke=\"black\" fill=\"white\" stroke-width=\"1\" /><text x=\"705.4511328125002\" y=\"75.0\" dominant-baseline=\"middle\" text-anchor=\"middle\" font-size=\"14px\" font-family=\"Arial\">Rz(0.5π)</text><rect x=\"671.9244921875002\" y=\"5.0\" width=\"67.05328125\" height=\"40\" stroke=\"black\" fill=\"white\" stroke-width=\"1\" /><text x=\"705.4511328125002\" y=\"25.0\" dominant-baseline=\"middle\" text-anchor=\"middle\" font-size=\"14px\" font-family=\"Arial\">Rx(0.5π)</text><rect x=\"758.9777734375002\" y=\"55.0\" width=\"56.99734375\" height=\"40\" stroke=\"black\" fill=\"white\" stroke-width=\"1\" /><text x=\"787.4764453125002\" y=\"75.0\" dominant-baseline=\"middle\" text-anchor=\"middle\" font-size=\"14px\" font-family=\"Arial\">X^-0.5</text><rect x=\"835.9751171875002\" y=\"5.0\" width=\"88.19765625000001\" height=\"40\" stroke=\"black\" fill=\"white\" stroke-width=\"1\" /><text x=\"880.0739453125002\" y=\"25.0\" dominant-baseline=\"middle\" text-anchor=\"middle\" font-size=\"14px\" font-family=\"Arial\">iSwap</text><rect x=\"835.9751171875002\" y=\"55.0\" width=\"88.19765625000001\" height=\"40\" stroke=\"black\" fill=\"white\" stroke-width=\"1\" /><text x=\"880.0739453125002\" y=\"75.0\" dominant-baseline=\"middle\" text-anchor=\"middle\" font-size=\"14px\" font-family=\"Arial\">iSwap^-0.5</text><rect x=\"944.1727734375003\" y=\"5.0\" width=\"49.840390625\" height=\"40\" stroke=\"black\" fill=\"white\" stroke-width=\"1\" /><text x=\"969.0929687500003\" y=\"25.0\" dominant-baseline=\"middle\" text-anchor=\"middle\" font-size=\"14px\" font-family=\"Arial\">Rx(-π)</text><rect x=\"1014.0131640625002\" y=\"5.0\" width=\"83.14589843750001\" height=\"40\" stroke=\"black\" fill=\"white\" stroke-width=\"1\" /><text x=\"1055.5861132812502\" y=\"25.0\" dominant-baseline=\"middle\" text-anchor=\"middle\" font-size=\"14px\" font-family=\"Arial\">iSwap</text><rect x=\"1014.0131640625002\" y=\"55.0\" width=\"83.14589843750001\" height=\"40\" stroke=\"black\" fill=\"white\" stroke-width=\"1\" /><text x=\"1055.5861132812502\" y=\"75.0\" dominant-baseline=\"middle\" text-anchor=\"middle\" font-size=\"14px\" font-family=\"Arial\">iSwap^0.5</text><rect x=\"1117.1590625000001\" y=\"5.0\" width=\"67.05328125\" height=\"40\" stroke=\"black\" fill=\"white\" stroke-width=\"1\" /><text x=\"1150.6857031250001\" y=\"25.0\" dominant-baseline=\"middle\" text-anchor=\"middle\" font-size=\"14px\" font-family=\"Arial\">Rx(0.5π)</text><rect x=\"1117.1590625000001\" y=\"55.0\" width=\"67.05328125\" height=\"40\" stroke=\"black\" fill=\"white\" stroke-width=\"1\" /><text x=\"1150.6857031250001\" y=\"75.0\" dominant-baseline=\"middle\" text-anchor=\"middle\" font-size=\"14px\" font-family=\"Arial\">X^0.5</text><rect x=\"1204.2123437500002\" y=\"55.0\" width=\"51.352773437500005\" height=\"40\" stroke=\"black\" fill=\"white\" stroke-width=\"1\" /><text x=\"1229.8887304687503\" y=\"75.0\" dominant-baseline=\"middle\" text-anchor=\"middle\" font-size=\"14px\" font-family=\"Arial\">Y^0.5</text><rect x=\"1275.5651171875002\" y=\"5.0\" width=\"271.01031250000005\" height=\"40\" stroke=\"black\" fill=\"white\" stroke-width=\"1\" /><text x=\"1411.0702734375002\" y=\"25.0\" dominant-baseline=\"middle\" text-anchor=\"middle\" font-size=\"14px\" font-family=\"Arial\">PhXZ(a=0.917,x=0.276,z=-0.501)</text><rect x=\"1275.5651171875002\" y=\"55.0\" width=\"271.01031250000005\" height=\"40\" stroke=\"black\" fill=\"white\" stroke-width=\"1\" /><text x=\"1411.0702734375002\" y=\"75.0\" dominant-baseline=\"middle\" text-anchor=\"middle\" font-size=\"14px\" font-family=\"Arial\">PhXZ(a=0.895,x=2.22e-16,z=-0.166)</text><rect x=\"1566.5754296875002\" y=\"5.0\" width=\"80.07574218750001\" height=\"40\" stroke=\"black\" fill=\"white\" stroke-width=\"1\" /><text x=\"1606.6133007812502\" y=\"25.0\" dominant-baseline=\"middle\" text-anchor=\"middle\" font-size=\"14px\" font-family=\"Arial\">Rz(-0.25π)</text><rect x=\"1566.5754296875002\" y=\"55.0\" width=\"80.07574218750001\" height=\"40\" stroke=\"black\" fill=\"white\" stroke-width=\"1\" /><text x=\"1606.6133007812502\" y=\"75.0\" dominant-baseline=\"middle\" text-anchor=\"middle\" font-size=\"14px\" font-family=\"Arial\">Rz(-0.25π)</text><rect x=\"1666.6511718750003\" y=\"55.0\" width=\"204.50347656250003\" height=\"40\" stroke=\"black\" fill=\"white\" stroke-width=\"1\" /><text x=\"1768.9029101562503\" y=\"75.0\" dominant-baseline=\"middle\" text-anchor=\"middle\" font-size=\"14px\" font-family=\"Arial\">PhXZ(a=1.0,x=0.5,z=0)</text><rect x=\"1666.6511718750003\" y=\"5.0\" width=\"204.50347656250003\" height=\"40\" stroke=\"black\" fill=\"white\" stroke-width=\"1\" /><text x=\"1768.9029101562503\" y=\"25.0\" dominant-baseline=\"middle\" text-anchor=\"middle\" font-size=\"14px\" font-family=\"Arial\">PhXZ(a=-0.75,x=0,z=-0.75)</text></svg>"
      ],
      "text/plain": [
       "<cirq.contrib.svg.svg.SVGCircuit at 0x7fd12c5dcb50>"
      ]
     },
     "execution_count": 809,
     "metadata": {},
     "output_type": "execute_result"
    }
   ],
   "source": [
    "''' converting '''\n",
    "q = cirq.LineQubit.range(2)\n",
    "#c = cirq.Circuit(tc.UGate(0,0).on(q[0]))\n",
    "c = cirq.Circuit(tc.CVGate(0,0).on(q[0],q[1]))\n",
    "cirq.google.ConvertToSycamoreGates().optimize_circuit(c)\n",
    "kept_1 = c[:2]\n",
    "kept_2 = c[-3:]\n",
    "c = cirq.Circuit(kept_1, cirq.CNOT(q[0],q[1]), kept_2)\n",
    "print(kept_2)\n",
    "cirq.google.ConvertToSqrtIswapGates().optimize_circuit(c)\n",
    "SVGCircuit(c)"
   ]
  },
  {
   "cell_type": "code",
   "execution_count": 874,
   "metadata": {},
   "outputs": [
    {
     "name": "stdout",
     "output_type": "stream",
     "text": [
      "measurements: (no measurements)\n",
      "output vector: 0.707|00⟩ + 0.707|11⟩\n"
     ]
    }
   ],
   "source": [
    "''' EPR Pair '''\n",
    "Q = cirq.LineQubit.range(2)\n",
    "print(tc.final_state([\n",
    "        cirq.H(Q[0]),cirq.X(Q[0]),cirq.CNOT(Q[0],Q[1])\n",
    "    ],True))"
   ]
  },
  {
   "cell_type": "code",
   "execution_count": null,
   "metadata": {},
   "outputs": [],
   "source": []
  },
  {
   "cell_type": "code",
   "execution_count": null,
   "metadata": {},
   "outputs": [],
   "source": []
  },
  {
   "cell_type": "code",
   "execution_count": null,
   "metadata": {},
   "outputs": [],
   "source": []
  }
 ],
 "metadata": {
  "kernelspec": {
   "display_name": "Python 3",
   "language": "python",
   "name": "python3"
  },
  "language_info": {
   "codemirror_mode": {
    "name": "ipython",
    "version": 3
   },
   "file_extension": ".py",
   "mimetype": "text/x-python",
   "name": "python",
   "nbconvert_exporter": "python",
   "pygments_lexer": "ipython3",
   "version": "3.8.6"
  },
  "toc": {
   "base_numbering": 1,
   "nav_menu": {},
   "number_sections": true,
   "sideBar": true,
   "skip_h1_title": false,
   "title_cell": "Table of Contents",
   "title_sidebar": "Contents",
   "toc_cell": false,
   "toc_position": {},
   "toc_section_display": true,
   "toc_window_display": false
  }
 },
 "nbformat": 4,
 "nbformat_minor": 4
}
